{
 "cells": [
  {
   "cell_type": "code",
   "execution_count": 1,
   "metadata": {},
   "outputs": [],
   "source": [
    "using Random\n",
    "using Statistics\n",
    "using Distributions\n",
    "using ShiftedArrays\n",
    "using CategoricalArrays\n",
    "# using StatsPlots\n",
    "using HypothesisTests\n",
    "\n",
    "using DataFrames\n",
    "using DataFramesMeta\n",
    "using SpecialFunctions\n",
    "using LinearAlgebra\n",
    "using StatsFuns\n",
    "using MixedModels\n",
    "using CodecZlib\n",
    "using JLD2\n",
    "using Serialization\n",
    "using LaTeXStrings\n",
    "using ShiftedArrays: lag\n",
    "\n",
    "using CairoMakie  \n",
    "# CairoMakie.activate!(inline=true)\n",
    "CairoMakie.activate!(type = \"png\", inline=true, px_per_unit=2.0, pt_per_unit=1.0)"
   ]
  },
  {
   "cell_type": "code",
   "execution_count": 4,
   "metadata": {},
   "outputs": [
    {
     "data": {
      "text/plain": [
       "Dict{String, Function} with 8 entries:\n",
       "  \"log_λ2\"    => #47\n",
       "  \"c\"         => #48\n",
       "  \"log_λ1\"    => #46\n",
       "  \"α\"         => #41\n",
       "  \"initial_V\" => #43\n",
       "  \"λ1\"        => #44\n",
       "  \"αT\"        => #42\n",
       "  \"λ2\"        => #45"
      ]
     },
     "metadata": {},
     "output_type": "display_data"
    }
   ],
   "source": [
    "using RLSR\n",
    "using EM\n",
    "include(\"../code/em_scripts.jl\")\n",
    "include(\"../code/sailing_base_lrl_blockwise_twoλ.jl\")"
   ]
  },
  {
   "cell_type": "code",
   "execution_count": 5,
   "metadata": {},
   "outputs": [],
   "source": [
    "set_theme!()\n",
    "update_theme!(\n",
    "        fontsize = 7,\n",
    "        fonts = (; regular= \"Helvetica\", bold=\"Helvetica Bold\"),\n",
    "        # figure_padding = (10.0, 10.0, 10.0, 10.0),\n",
    "        figure_padding = (5.0, 5.0, 5.0, 5.0),\n",
    "        Lines = (\n",
    "            linewidth = 1.0,\n",
    "        )\n",
    "    )\n"
   ]
  },
  {
   "cell_type": "markdown",
   "metadata": {},
   "source": [
    "# Participants\n",
    "\n",
    "We're going to load participant data, as well as best-fit parameters for models with either one or two $\\lambda$ parameters."
   ]
  },
  {
   "cell_type": "code",
   "execution_count": 6,
   "metadata": {},
   "outputs": [
    {
     "data": {
      "text/html": [
       "<div><div style = \"float: left;\"><span>5×61 DataFrame</span></div><div style = \"clear: both;\"></div></div><div class = \"data-frame\" style = \"overflow-x: scroll;\"><table class = \"data-frame\" style = \"margin-bottom: 6px;\"><thead><tr class = \"header\"><th class = \"rowNumber\" style = \"font-weight: bold; text-align: right;\">Row</th><th style = \"text-align: left;\">state1</th><th style = \"text-align: left;\">state2</th><th style = \"text-align: left;\">state3</th><th style = \"text-align: left;\">endState</th><th style = \"text-align: left;\">endBranchLeft</th><th style = \"text-align: left;\">reward</th><th style = \"text-align: left;\">action1Left</th><th style = \"text-align: left;\">action2Left</th><th style = \"text-align: left;\">rewardₜ₋₁</th><th style = \"text-align: left;\">rewardₜ₋₂</th><th style = \"text-align: left;\">state1ₜ₋₁</th><th style = \"text-align: left;\">state1ₜ₋₂</th><th style = \"text-align: left;\">state1ₜ₋₃</th><th style = \"text-align: left;\">state2ₜ₋₁</th><th style = \"text-align: left;\">state2ₜ₋₂</th><th style = \"text-align: left;\">state3ₜ₋₁</th><th style = \"text-align: left;\">state3ₜ₋₂</th><th style = \"text-align: left;\">endStateₜ₋₁</th><th style = \"text-align: left;\">endStateₜ₋₂</th><th style = \"text-align: left;\">endBranchLeftₜ₋₁</th><th style = \"text-align: left;\">endBranchLeftₜ₋₂</th><th style = \"text-align: left;\">trial</th><th style = \"text-align: left;\">subject</th><th style = \"text-align: left;\">action1TowardsPrevEnd</th><th style = \"text-align: left;\">action1Persistance</th><th style = \"text-align: left;\">endBranchₜ₋₁SameAsLastChoice</th><th style = \"text-align: left;\">priorMoveAt1</th><th style = \"text-align: left;\">priorMoveAt2</th><th style = \"text-align: left;\">priorMoveAt3</th><th style = \"text-align: left;\">parentPriorMove</th><th style = \"text-align: left;\">parentPriorMoveToEndState</th><th style = \"text-align: left;\">parentPriorMoveToEndStateₜ₋₁</th><th style = \"text-align: left;\">priorRewardAt2</th><th style = \"text-align: left;\">priorRewardAt3</th><th style = \"text-align: left;\">priorRewardAt4</th><th style = \"text-align: left;\">priorRewardAt5</th><th style = \"text-align: left;\">priorRewardAt6</th><th style = \"text-align: left;\">priorRewardAt7</th><th style = \"text-align: left;\">endStateSiblingPriorReward</th><th style = \"text-align: left;\">endStateSiblingPriorRewardₜ₋₁</th><th style = \"text-align: left;\">endStatePriorReward</th><th style = \"text-align: left;\">endStatePriorRewardₜ₋₁</th><th style = \"text-align: left;\">endStatePriorRewardₜ₋₂</th><th style = \"text-align: left;\">priorRewardLeftBranch</th><th style = \"text-align: left;\">priorRewardRightBranch</th><th style = \"text-align: left;\">endStateBranchPriorReward</th><th style = \"text-align: left;\">endStateBranchPriorRewardₜ₋₁</th><th style = \"text-align: left;\">endStateBranchPriorRewardₜ₋₂</th><th style = \"text-align: left;\">sub</th><th style = \"text-align: left;\">assignment</th><th style = \"text-align: left;\">r1</th><th style = \"text-align: left;\">r2</th><th style = \"text-align: left;\">r3</th><th style = \"text-align: left;\">r4</th><th style = \"text-align: left;\">rt_boat</th><th style = \"text-align: left;\">rt_island</th><th style = \"text-align: left;\">rewscaled</th><th style = \"text-align: left;\">rwd_swap</th><th style = \"text-align: left;\">rwd_swap_type</th><th style = \"text-align: left;\">block_ind</th><th style = \"text-align: left;\">block_num</th></tr><tr class = \"subheader headerLastRow\"><th class = \"rowNumber\" style = \"font-weight: bold; text-align: right;\"></th><th title = \"Int64\" style = \"text-align: left;\">Int64</th><th title = \"Int64\" style = \"text-align: left;\">Int64</th><th title = \"Int64\" style = \"text-align: left;\">Int64</th><th title = \"Int64\" style = \"text-align: left;\">Int64</th><th title = \"Bool\" style = \"text-align: left;\">Bool</th><th title = \"Float64\" style = \"text-align: left;\">Float64</th><th title = \"Union{Missing, Bool}\" style = \"text-align: left;\">Bool?</th><th title = \"Union{Missing, Bool}\" style = \"text-align: left;\">Bool?</th><th title = \"Union{Missing, Float64}\" style = \"text-align: left;\">Float64?</th><th title = \"Union{Missing, Float64}\" style = \"text-align: left;\">Float64?</th><th title = \"Union{Missing, Int64}\" style = \"text-align: left;\">Int64?</th><th title = \"Union{Missing, Int64}\" style = \"text-align: left;\">Int64?</th><th title = \"Union{Missing, Int64}\" style = \"text-align: left;\">Int64?</th><th title = \"Union{Missing, Int64}\" style = \"text-align: left;\">Int64?</th><th title = \"Union{Missing, Int64}\" style = \"text-align: left;\">Int64?</th><th title = \"Union{Missing, Int64}\" style = \"text-align: left;\">Int64?</th><th title = \"Union{Missing, Int64}\" style = \"text-align: left;\">Int64?</th><th title = \"Union{Missing, Int64}\" style = \"text-align: left;\">Int64?</th><th title = \"Union{Missing, Int64}\" style = \"text-align: left;\">Int64?</th><th title = \"Union{Missing, Bool}\" style = \"text-align: left;\">Bool?</th><th title = \"Union{Missing, Bool}\" style = \"text-align: left;\">Bool?</th><th title = \"Int64\" style = \"text-align: left;\">Int64</th><th title = \"String\" style = \"text-align: left;\">String</th><th title = \"Union{Missing, Bool}\" style = \"text-align: left;\">Bool?</th><th title = \"Union{Missing, Bool}\" style = \"text-align: left;\">Bool?</th><th title = \"Union{Missing, Bool}\" style = \"text-align: left;\">Bool?</th><th title = \"Union{Missing, Int64}\" style = \"text-align: left;\">Int64?</th><th title = \"Union{Missing, Int64}\" style = \"text-align: left;\">Int64?</th><th title = \"Union{Missing, Int64}\" style = \"text-align: left;\">Int64?</th><th title = \"Union{Missing, Int64}\" style = \"text-align: left;\">Int64?</th><th title = \"Union{Missing, Bool}\" style = \"text-align: left;\">Bool?</th><th title = \"Union{Missing, Bool}\" style = \"text-align: left;\">Bool?</th><th title = \"Union{Missing, Float64}\" style = \"text-align: left;\">Float64?</th><th title = \"Union{Missing, Float64}\" style = \"text-align: left;\">Float64?</th><th title = \"Union{Missing, Float64}\" style = \"text-align: left;\">Float64?</th><th title = \"Union{Missing, Float64}\" style = \"text-align: left;\">Float64?</th><th title = \"Union{Missing, Float64}\" style = \"text-align: left;\">Float64?</th><th title = \"Union{Missing, Float64}\" style = \"text-align: left;\">Float64?</th><th title = \"Union{Missing, Float64}\" style = \"text-align: left;\">Float64?</th><th title = \"Union{Missing, Float64}\" style = \"text-align: left;\">Float64?</th><th title = \"Union{Missing, Float64}\" style = \"text-align: left;\">Float64?</th><th title = \"Union{Missing, Float64}\" style = \"text-align: left;\">Float64?</th><th title = \"Union{Missing, Float64}\" style = \"text-align: left;\">Float64?</th><th title = \"Union{Missing, Float64}\" style = \"text-align: left;\">Float64?</th><th title = \"Union{Missing, Float64}\" style = \"text-align: left;\">Float64?</th><th title = \"Union{Missing, Float64}\" style = \"text-align: left;\">Float64?</th><th title = \"Union{Missing, Float64}\" style = \"text-align: left;\">Float64?</th><th title = \"Union{Missing, Float64}\" style = \"text-align: left;\">Float64?</th><th title = \"Int64\" style = \"text-align: left;\">Int64</th><th title = \"String\" style = \"text-align: left;\">String</th><th title = \"Float64\" style = \"text-align: left;\">Float64</th><th title = \"Float64\" style = \"text-align: left;\">Float64</th><th title = \"Float64\" style = \"text-align: left;\">Float64</th><th title = \"Float64\" style = \"text-align: left;\">Float64</th><th title = \"Real\" style = \"text-align: left;\">Real</th><th title = \"Union{Nothing, Real}\" style = \"text-align: left;\">Union…</th><th title = \"Float64\" style = \"text-align: left;\">Float64</th><th title = \"Bool\" style = \"text-align: left;\">Bool</th><th title = \"String\" style = \"text-align: left;\">String</th><th title = \"Int64\" style = \"text-align: left;\">Int64</th><th title = \"Int64\" style = \"text-align: left;\">Int64</th></tr></thead><tbody><tr><td class = \"rowNumber\" style = \"font-weight: bold; text-align: right;\">1</td><td style = \"text-align: right;\">1</td><td style = \"text-align: right;\">3</td><td style = \"text-align: right;\">6</td><td style = \"text-align: right;\">6</td><td style = \"text-align: right;\">false</td><td style = \"text-align: right;\">0.0</td><td style = \"text-align: right;\">false</td><td style = \"text-align: right;\">true</td><td style = \"font-style: italic; text-align: right;\">missing</td><td style = \"font-style: italic; text-align: right;\">missing</td><td style = \"font-style: italic; text-align: right;\">missing</td><td style = \"font-style: italic; text-align: right;\">missing</td><td style = \"font-style: italic; text-align: right;\">missing</td><td style = \"font-style: italic; text-align: right;\">missing</td><td style = \"font-style: italic; text-align: right;\">missing</td><td style = \"font-style: italic; text-align: right;\">missing</td><td style = \"font-style: italic; text-align: right;\">missing</td><td style = \"font-style: italic; text-align: right;\">missing</td><td style = \"font-style: italic; text-align: right;\">missing</td><td style = \"font-style: italic; text-align: right;\">missing</td><td style = \"font-style: italic; text-align: right;\">missing</td><td style = \"text-align: right;\">1</td><td style = \"text-align: left;\">001</td><td style = \"font-style: italic; text-align: right;\">missing</td><td style = \"font-style: italic; text-align: right;\">missing</td><td style = \"font-style: italic; text-align: right;\">missing</td><td style = \"font-style: italic; text-align: right;\">missing</td><td style = \"font-style: italic; text-align: right;\">missing</td><td style = \"font-style: italic; text-align: right;\">missing</td><td style = \"font-style: italic; text-align: right;\">missing</td><td style = \"font-style: italic; text-align: right;\">missing</td><td style = \"font-style: italic; text-align: right;\">missing</td><td style = \"font-style: italic; text-align: right;\">missing</td><td style = \"font-style: italic; text-align: right;\">missing</td><td style = \"font-style: italic; text-align: right;\">missing</td><td style = \"font-style: italic; text-align: right;\">missing</td><td style = \"font-style: italic; text-align: right;\">missing</td><td style = \"font-style: italic; text-align: right;\">missing</td><td style = \"font-style: italic; text-align: right;\">missing</td><td style = \"font-style: italic; text-align: right;\">missing</td><td style = \"font-style: italic; text-align: right;\">missing</td><td style = \"font-style: italic; text-align: right;\">missing</td><td style = \"font-style: italic; text-align: right;\">missing</td><td style = \"font-style: italic; text-align: right;\">missing</td><td style = \"font-style: italic; text-align: right;\">missing</td><td style = \"font-style: italic; text-align: right;\">missing</td><td style = \"font-style: italic; text-align: right;\">missing</td><td style = \"font-style: italic; text-align: right;\">missing</td><td style = \"text-align: right;\">1</td><td style = \"text-align: left;\">02nzj9jkf5f6zt1qpj88npr9</td><td style = \"text-align: right;\">0.675</td><td style = \"text-align: right;\">0.325</td><td style = \"text-align: right;\">0.15</td><td style = \"text-align: right;\">0.85</td><td style = \"text-align: right;\">31.6</td><td style = \"text-align: left;\">1743.3</td><td style = \"text-align: right;\">-1.0</td><td style = \"text-align: right;\">false</td><td style = \"text-align: left;\">start</td><td style = \"text-align: right;\">0</td><td style = \"text-align: right;\">0</td></tr><tr><td class = \"rowNumber\" style = \"font-weight: bold; text-align: right;\">2</td><td style = \"text-align: right;\">4</td><td style = \"text-align: right;\">-1</td><td style = \"text-align: right;\">-1</td><td style = \"text-align: right;\">4</td><td style = \"text-align: right;\">true</td><td style = \"text-align: right;\">1.0</td><td style = \"font-style: italic; text-align: right;\">missing</td><td style = \"font-style: italic; text-align: right;\">missing</td><td style = \"text-align: right;\">0.0</td><td style = \"font-style: italic; text-align: right;\">missing</td><td style = \"text-align: right;\">1</td><td style = \"font-style: italic; text-align: right;\">missing</td><td style = \"font-style: italic; text-align: right;\">missing</td><td style = \"text-align: right;\">3</td><td style = \"font-style: italic; text-align: right;\">missing</td><td style = \"text-align: right;\">6</td><td style = \"font-style: italic; text-align: right;\">missing</td><td style = \"text-align: right;\">6</td><td style = \"font-style: italic; text-align: right;\">missing</td><td style = \"text-align: right;\">false</td><td style = \"font-style: italic; text-align: right;\">missing</td><td style = \"text-align: right;\">2</td><td style = \"text-align: left;\">001</td><td style = \"font-style: italic; text-align: right;\">missing</td><td style = \"font-style: italic; text-align: right;\">missing</td><td style = \"font-style: italic; text-align: right;\">missing</td><td style = \"text-align: right;\">3</td><td style = \"font-style: italic; text-align: right;\">missing</td><td style = \"text-align: right;\">6</td><td style = \"font-style: italic; text-align: right;\">missing</td><td style = \"font-style: italic; text-align: right;\">missing</td><td style = \"font-style: italic; text-align: right;\">missing</td><td style = \"font-style: italic; text-align: right;\">missing</td><td style = \"font-style: italic; text-align: right;\">missing</td><td style = \"font-style: italic; text-align: right;\">missing</td><td style = \"font-style: italic; text-align: right;\">missing</td><td style = \"text-align: right;\">0.0</td><td style = \"font-style: italic; text-align: right;\">missing</td><td style = \"font-style: italic; text-align: right;\">missing</td><td style = \"font-style: italic; text-align: right;\">missing</td><td style = \"font-style: italic; text-align: right;\">missing</td><td style = \"font-style: italic; text-align: right;\">missing</td><td style = \"font-style: italic; text-align: right;\">missing</td><td style = \"font-style: italic; text-align: right;\">missing</td><td style = \"text-align: right;\">0.0</td><td style = \"font-style: italic; text-align: right;\">missing</td><td style = \"font-style: italic; text-align: right;\">missing</td><td style = \"font-style: italic; text-align: right;\">missing</td><td style = \"text-align: right;\">1</td><td style = \"text-align: left;\">02nzj9jkf5f6zt1qpj88npr9</td><td style = \"text-align: right;\">0.675</td><td style = \"text-align: right;\">0.325</td><td style = \"text-align: right;\">0.15</td><td style = \"text-align: right;\">0.85</td><td style = \"text-align: right;\">3324.2</td><td style = \"font-style: italic; text-align: left;\"></td><td style = \"text-align: right;\">1.0</td><td style = \"text-align: right;\">false</td><td style = \"text-align: left;\">start</td><td style = \"text-align: right;\">1</td><td style = \"text-align: right;\">0</td></tr><tr><td class = \"rowNumber\" style = \"font-weight: bold; text-align: right;\">3</td><td style = \"text-align: right;\">1</td><td style = \"text-align: right;\">2</td><td style = \"text-align: right;\">4</td><td style = \"text-align: right;\">4</td><td style = \"text-align: right;\">true</td><td style = \"text-align: right;\">1.0</td><td style = \"text-align: right;\">true</td><td style = \"text-align: right;\">true</td><td style = \"text-align: right;\">1.0</td><td style = \"text-align: right;\">0.0</td><td style = \"text-align: right;\">4</td><td style = \"text-align: right;\">1</td><td style = \"font-style: italic; text-align: right;\">missing</td><td style = \"font-style: italic; text-align: right;\">missing</td><td style = \"text-align: right;\">3</td><td style = \"font-style: italic; text-align: right;\">missing</td><td style = \"text-align: right;\">6</td><td style = \"text-align: right;\">4</td><td style = \"text-align: right;\">6</td><td style = \"text-align: right;\">true</td><td style = \"text-align: right;\">false</td><td style = \"text-align: right;\">3</td><td style = \"text-align: left;\">001</td><td style = \"text-align: right;\">true</td><td style = \"text-align: right;\">false</td><td style = \"text-align: right;\">false</td><td style = \"text-align: right;\">3</td><td style = \"font-style: italic; text-align: right;\">missing</td><td style = \"text-align: right;\">6</td><td style = \"font-style: italic; text-align: right;\">missing</td><td style = \"font-style: italic; text-align: right;\">missing</td><td style = \"font-style: italic; text-align: right;\">missing</td><td style = \"font-style: italic; text-align: right;\">missing</td><td style = \"font-style: italic; text-align: right;\">missing</td><td style = \"text-align: right;\">1.0</td><td style = \"font-style: italic; text-align: right;\">missing</td><td style = \"text-align: right;\">0.0</td><td style = \"font-style: italic; text-align: right;\">missing</td><td style = \"font-style: italic; text-align: right;\">missing</td><td style = \"font-style: italic; text-align: right;\">missing</td><td style = \"text-align: right;\">1.0</td><td style = \"font-style: italic; text-align: right;\">missing</td><td style = \"font-style: italic; text-align: right;\">missing</td><td style = \"text-align: right;\">1.0</td><td style = \"text-align: right;\">0.0</td><td style = \"text-align: right;\">1.0</td><td style = \"font-style: italic; text-align: right;\">missing</td><td style = \"font-style: italic; text-align: right;\">missing</td><td style = \"text-align: right;\">1</td><td style = \"text-align: left;\">02nzj9jkf5f6zt1qpj88npr9</td><td style = \"text-align: right;\">0.675</td><td style = \"text-align: right;\">0.325</td><td style = \"text-align: right;\">0.15</td><td style = \"text-align: right;\">0.85</td><td style = \"text-align: right;\">1050.3</td><td style = \"text-align: left;\">967</td><td style = \"text-align: right;\">1.0</td><td style = \"text-align: right;\">false</td><td style = \"text-align: left;\">start</td><td style = \"text-align: right;\">2</td><td style = \"text-align: right;\">0</td></tr><tr><td class = \"rowNumber\" style = \"font-weight: bold; text-align: right;\">4</td><td style = \"text-align: right;\">7</td><td style = \"text-align: right;\">-1</td><td style = \"text-align: right;\">-1</td><td style = \"text-align: right;\">7</td><td style = \"text-align: right;\">false</td><td style = \"text-align: right;\">1.0</td><td style = \"font-style: italic; text-align: right;\">missing</td><td style = \"font-style: italic; text-align: right;\">missing</td><td style = \"text-align: right;\">1.0</td><td style = \"text-align: right;\">1.0</td><td style = \"text-align: right;\">1</td><td style = \"text-align: right;\">4</td><td style = \"text-align: right;\">1</td><td style = \"text-align: right;\">2</td><td style = \"font-style: italic; text-align: right;\">missing</td><td style = \"text-align: right;\">4</td><td style = \"font-style: italic; text-align: right;\">missing</td><td style = \"text-align: right;\">4</td><td style = \"text-align: right;\">4</td><td style = \"text-align: right;\">true</td><td style = \"text-align: right;\">true</td><td style = \"text-align: right;\">4</td><td style = \"text-align: left;\">001</td><td style = \"font-style: italic; text-align: right;\">missing</td><td style = \"font-style: italic; text-align: right;\">missing</td><td style = \"text-align: right;\">true</td><td style = \"text-align: right;\">2</td><td style = \"text-align: right;\">4</td><td style = \"text-align: right;\">6</td><td style = \"text-align: right;\">6</td><td style = \"text-align: right;\">false</td><td style = \"font-style: italic; text-align: right;\">missing</td><td style = \"font-style: italic; text-align: right;\">missing</td><td style = \"font-style: italic; text-align: right;\">missing</td><td style = \"text-align: right;\">1.0</td><td style = \"font-style: italic; text-align: right;\">missing</td><td style = \"text-align: right;\">0.0</td><td style = \"font-style: italic; text-align: right;\">missing</td><td style = \"text-align: right;\">0.0</td><td style = \"font-style: italic; text-align: right;\">missing</td><td style = \"font-style: italic; text-align: right;\">missing</td><td style = \"text-align: right;\">1.0</td><td style = \"font-style: italic; text-align: right;\">missing</td><td style = \"text-align: right;\">1.0</td><td style = \"text-align: right;\">0.0</td><td style = \"text-align: right;\">0.0</td><td style = \"text-align: right;\">1.0</td><td style = \"font-style: italic; text-align: right;\">missing</td><td style = \"text-align: right;\">1</td><td style = \"text-align: left;\">02nzj9jkf5f6zt1qpj88npr9</td><td style = \"text-align: right;\">0.675</td><td style = \"text-align: right;\">0.325</td><td style = \"text-align: right;\">0.15</td><td style = \"text-align: right;\">0.85</td><td style = \"text-align: right;\">2148.6</td><td style = \"font-style: italic; text-align: left;\"></td><td style = \"text-align: right;\">1.0</td><td style = \"text-align: right;\">false</td><td style = \"text-align: left;\">start</td><td style = \"text-align: right;\">3</td><td style = \"text-align: right;\">0</td></tr><tr><td class = \"rowNumber\" style = \"font-weight: bold; text-align: right;\">5</td><td style = \"text-align: right;\">1</td><td style = \"text-align: right;\">2</td><td style = \"text-align: right;\">4</td><td style = \"text-align: right;\">4</td><td style = \"text-align: right;\">true</td><td style = \"text-align: right;\">1.0</td><td style = \"text-align: right;\">true</td><td style = \"text-align: right;\">true</td><td style = \"text-align: right;\">1.0</td><td style = \"text-align: right;\">1.0</td><td style = \"text-align: right;\">7</td><td style = \"text-align: right;\">1</td><td style = \"text-align: right;\">4</td><td style = \"font-style: italic; text-align: right;\">missing</td><td style = \"text-align: right;\">2</td><td style = \"font-style: italic; text-align: right;\">missing</td><td style = \"text-align: right;\">4</td><td style = \"text-align: right;\">7</td><td style = \"text-align: right;\">4</td><td style = \"text-align: right;\">false</td><td style = \"text-align: right;\">true</td><td style = \"text-align: right;\">5</td><td style = \"text-align: left;\">001</td><td style = \"text-align: right;\">false</td><td style = \"text-align: right;\">true</td><td style = \"text-align: right;\">false</td><td style = \"text-align: right;\">2</td><td style = \"text-align: right;\">4</td><td style = \"text-align: right;\">6</td><td style = \"text-align: right;\">4</td><td style = \"text-align: right;\">true</td><td style = \"text-align: right;\">false</td><td style = \"font-style: italic; text-align: right;\">missing</td><td style = \"font-style: italic; text-align: right;\">missing</td><td style = \"text-align: right;\">1.0</td><td style = \"font-style: italic; text-align: right;\">missing</td><td style = \"text-align: right;\">0.0</td><td style = \"text-align: right;\">1.0</td><td style = \"font-style: italic; text-align: right;\">missing</td><td style = \"text-align: right;\">0.0</td><td style = \"text-align: right;\">1.0</td><td style = \"font-style: italic; text-align: right;\">missing</td><td style = \"text-align: right;\">1.0</td><td style = \"text-align: right;\">1.0</td><td style = \"text-align: right;\">1.0</td><td style = \"text-align: right;\">1.0</td><td style = \"text-align: right;\">0.0</td><td style = \"text-align: right;\">1.0</td><td style = \"text-align: right;\">1</td><td style = \"text-align: left;\">02nzj9jkf5f6zt1qpj88npr9</td><td style = \"text-align: right;\">0.675</td><td style = \"text-align: right;\">0.325</td><td style = \"text-align: right;\">0.15</td><td style = \"text-align: right;\">0.85</td><td style = \"text-align: right;\">841.6</td><td style = \"text-align: left;\">1189.4</td><td style = \"text-align: right;\">1.0</td><td style = \"text-align: right;\">false</td><td style = \"text-align: left;\">start</td><td style = \"text-align: right;\">4</td><td style = \"text-align: right;\">0</td></tr></tbody></table></div>"
      ],
      "text/latex": [
       "\\begin{tabular}{r|ccccccccc}\n",
       "\t& state1 & state2 & state3 & endState & endBranchLeft & reward & action1Left & action2Left & \\\\\n",
       "\t\\hline\n",
       "\t& Int64 & Int64 & Int64 & Int64 & Bool & Float64 & Bool? & Bool? & \\\\\n",
       "\t\\hline\n",
       "\t1 & 1 & 3 & 6 & 6 & 0 & 0.0 & 0 & 1 & $\\dots$ \\\\\n",
       "\t2 & 4 & -1 & -1 & 4 & 1 & 1.0 & \\emph{missing} & \\emph{missing} & $\\dots$ \\\\\n",
       "\t3 & 1 & 2 & 4 & 4 & 1 & 1.0 & 1 & 1 & $\\dots$ \\\\\n",
       "\t4 & 7 & -1 & -1 & 7 & 0 & 1.0 & \\emph{missing} & \\emph{missing} & $\\dots$ \\\\\n",
       "\t5 & 1 & 2 & 4 & 4 & 1 & 1.0 & 1 & 1 & $\\dots$ \\\\\n",
       "\\end{tabular}\n"
      ],
      "text/plain": [
       "\u001b[1m5×61 DataFrame\u001b[0m\n",
       "\u001b[1m Row \u001b[0m│\u001b[1m state1 \u001b[0m\u001b[1m state2 \u001b[0m\u001b[1m state3 \u001b[0m\u001b[1m endState \u001b[0m\u001b[1m endBranchLeft \u001b[0m\u001b[1m reward  \u001b[0m\u001b[1m action1Left \u001b[0m\u001b[1m \u001b[0m ⋯\n",
       "     │\u001b[90m Int64  \u001b[0m\u001b[90m Int64  \u001b[0m\u001b[90m Int64  \u001b[0m\u001b[90m Int64    \u001b[0m\u001b[90m Bool          \u001b[0m\u001b[90m Float64 \u001b[0m\u001b[90m Bool?       \u001b[0m\u001b[90m \u001b[0m ⋯\n",
       "─────┼──────────────────────────────────────────────────────────────────────────\n",
       "   1 │      1       3       6         6          false      0.0        false   ⋯\n",
       "   2 │      4      -1      -1         4           true      1.0 \u001b[90m     missing \u001b[0m\u001b[90m \u001b[0m\n",
       "   3 │      1       2       4         4           true      1.0         true\n",
       "   4 │      7      -1      -1         7          false      1.0 \u001b[90m     missing \u001b[0m\u001b[90m \u001b[0m\n",
       "   5 │      1       2       4         4           true      1.0         true   ⋯\n",
       "\u001b[36m                                                              54 columns omitted\u001b[0m"
      ]
     },
     "metadata": {},
     "output_type": "display_data"
    }
   ],
   "source": [
    "file_prefix = \"blockwise\"\n",
    "full_df = load(\"../derived/$(file_prefix).jld2\")[\"full_df\"]\n",
    "ntrials = maximum(full_df.trial)\n",
    "full_df[1:5, :]"
   ]
  },
  {
   "cell_type": "code",
   "execution_count": 8,
   "metadata": {},
   "outputs": [
    {
     "data": {
      "text/html": [
       "<pre>[\"βLRL\", \"βBoat\", \"island_stay_bias\", \"boat_stay_bias\", \"α\", \"αT\", \"log_λ1\"]<br/></pre>β:<br/><pre> βLRL  βBoat islan boat_ α      αT     log_λ1 <br/> 1.98  2.0  0.67  0.43  <span style='color: red'>-0.19</span>  <span style='color: red'>-0.53</span>  <span style='color: red'>-0.48</span><br/>p:<br/> 0.01  0.01  0.01  0.01  0.05  0.01  0.01</pre>σ²:<br/><pre>7×7 Diagonal{Float64, Vector{Float64}}:<br/> 1.59   ⋅     ⋅     ⋅     ⋅     ⋅     ⋅ <br/>  ⋅    1.06   ⋅     ⋅     ⋅     ⋅     ⋅ <br/>  ⋅     ⋅    0.78   ⋅     ⋅     ⋅     ⋅ <br/>  ⋅     ⋅     ⋅    0.31   ⋅     ⋅     ⋅ <br/>  ⋅     ⋅     ⋅     ⋅    0.79   ⋅     ⋅ <br/>  ⋅     ⋅     ⋅     ⋅     ⋅    0.93   ⋅ <br/>  ⋅     ⋅     ⋅     ⋅     ⋅     ⋅    0.95</pre>"
      ],
      "text/plain": [
       "HTML{String}(\"<pre>[\\\"βLRL\\\", \\\"βBoat\\\", \\\"island_stay_bias\\\", \\\"boat_stay_bias\\\", \\\"α\\\", \\\"αT\\\", \\\"log_λ1\\\"]<br/></pre>β:<br/><pre> βLRL  βBoat islan boat_ α      αT     log_λ1 <br/> 1.98  2.0  0.67  0.43  <span style='color: red'>-0.19</span>  <span style='color: red'>-0.53</span>  <span style='color: red'>-0.48</span><br/>p:<br/> 0.01  0.01  0.01  0.01  0.05  0.01  0.01</pre>σ²:<br/><pre>7×7 Diagonal{Float64, Vector{Float64}}:<br/> 1.59   ⋅     ⋅     ⋅     ⋅     ⋅     ⋅ <br/>  ⋅    1.06   ⋅     ⋅     ⋅     ⋅     ⋅ <br/>  ⋅     ⋅    0.78   ⋅     ⋅     ⋅     ⋅ <br/>  ⋅     ⋅     ⋅    0.31   ⋅     ⋅     ⋅ <br/>  ⋅     ⋅     ⋅     ⋅    0.79   ⋅     ⋅ <br/>  ⋅     ⋅     ⋅     ⋅     ⋅    0.93   ⋅ <br/>  ⋅     ⋅     ⋅     ⋅     ⋅     ⋅    0.95</pre>\")"
      ]
     },
     "metadata": {},
     "output_type": "display_data"
    }
   ],
   "source": [
    "s = \"blockwise\"\n",
    "ver = \"lrlblockwise_twoλ_BLRL_BBoat_λ1_aT_islandbias_boatbias_rewscaled_initx\"\n",
    "r1 = load(\"../results/$(s)/$(s)_$(ver).jld2\")[\"$(s)_$(ver)\"]\n",
    "HTML(show_results(r1))"
   ]
  },
  {
   "cell_type": "code",
   "execution_count": 9,
   "metadata": {},
   "outputs": [
    {
     "data": {
      "text/html": [
       "<pre>[\"βLRL\", \"βBoat\", \"island_stay_bias\", \"boat_stay_bias\", \"α\", \"αT\", \"log_λ1\", \"log_λ2\"]<br/></pre>β:<br/><pre> βLRL  βBoat islan boat_ α      αT     log_λ1 log_λ2 <br/> 1.99  1.98  0.67  0.44  <span style='color: red'>-0.17</span>  <span style='color: red'>-0.5</span>  <span style='color: red'>-0.38</span>  <span style='color: red'>-1.37</span><br/>p:<br/> 0.01  0.01  0.01  0.01  0.07  0.01  0.03  0.01</pre>σ²:<br/><pre>8×8 Diagonal{Float64, Vector{Float64}}:<br/> 1.65   ⋅     ⋅     ⋅     ⋅     ⋅     ⋅     ⋅ <br/>  ⋅    1.07   ⋅     ⋅     ⋅     ⋅     ⋅     ⋅ <br/>  ⋅     ⋅    0.79   ⋅     ⋅     ⋅     ⋅     ⋅ <br/>  ⋅     ⋅     ⋅    0.31   ⋅     ⋅     ⋅     ⋅ <br/>  ⋅     ⋅     ⋅     ⋅    0.76   ⋅     ⋅     ⋅ <br/>  ⋅     ⋅     ⋅     ⋅     ⋅    0.99   ⋅     ⋅ <br/>  ⋅     ⋅     ⋅     ⋅     ⋅     ⋅    0.89   ⋅ <br/>  ⋅     ⋅     ⋅     ⋅     ⋅     ⋅     ⋅    1.46</pre>"
      ],
      "text/plain": [
       "HTML{String}(\"<pre>[\\\"βLRL\\\", \\\"βBoat\\\", \\\"island_stay_bias\\\", \\\"boat_stay_bias\\\", \\\"α\\\", \\\"αT\\\", \\\"log_λ1\\\", \\\"log_λ2\\\"]<br/></pre>β:<br/><pre> βLRL  βBoat islan boat_ α      αT     log_λ1 log_λ2 <br/> 1.99  1.98  0.67  0.44  <span style='color: red'>-0.17</span>  <span style='color: red'>-0.5</span>  <span style='color: red'>-0.38</span>  <span style='color: red'>-1.37</span><br/>p:<br/> 0.01  0.01  0.01  0.01  0.07  0.01  0.03  0.01</pre>σ²:<br/><pre>8×8 Diagonal{Float64, Vector{Float64}}:<br/> 1.65   ⋅     ⋅     ⋅     ⋅     ⋅     ⋅     ⋅ <br/>  ⋅    1.07   ⋅     ⋅     ⋅     ⋅     ⋅     ⋅ <br/>  ⋅     ⋅    0.79   ⋅     ⋅     ⋅     ⋅     ⋅ <br/>  ⋅     ⋅     ⋅    0.31   ⋅     ⋅     ⋅     ⋅ <br/>  ⋅     ⋅     ⋅     ⋅    0.76   ⋅     ⋅     ⋅ <br/>  ⋅     ⋅     ⋅     ⋅     ⋅    0.99   ⋅     ⋅ <br/>  ⋅     ⋅     ⋅     ⋅     ⋅     ⋅    0.89   ⋅ <br/>  ⋅     ⋅     ⋅     ⋅     ⋅     ⋅     ⋅    1.46</pre>\")"
      ]
     },
     "metadata": {},
     "output_type": "display_data"
    }
   ],
   "source": [
    "s = \"blockwise\"\n",
    "ver = \"lrlblockwise_twoλ_BLRL_BBoat_λ1_λ2_aT_islandbias_boatbias_rewscaled_initx\"\n",
    "r2 = load(\"../results/$(s)/$(s)_$(ver).jld2\")[\"$(s)_$(ver)\"]\n",
    "HTML(show_results(r2))"
   ]
  },
  {
   "cell_type": "markdown",
   "metadata": {},
   "source": [
    "Preprocessing \n",
    "We'll do a little bit of preprocessing, primarily just removing trials with missing data, as well as creating centered variables (centering is being done at the group level)"
   ]
  },
  {
   "cell_type": "code",
   "execution_count": 10,
   "metadata": {},
   "outputs": [
    {
     "data": {
      "text/html": [
       "<div><div style = \"float: left;\"><span>5×65 DataFrame</span></div><div style = \"clear: both;\"></div></div><div class = \"data-frame\" style = \"overflow-x: scroll;\"><table class = \"data-frame\" style = \"margin-bottom: 6px;\"><thead><tr class = \"header\"><th class = \"rowNumber\" style = \"font-weight: bold; text-align: right;\">Row</th><th style = \"text-align: left;\">state1</th><th style = \"text-align: left;\">state2</th><th style = \"text-align: left;\">state3</th><th style = \"text-align: left;\">endState</th><th style = \"text-align: left;\">endBranchLeft</th><th style = \"text-align: left;\">reward</th><th style = \"text-align: left;\">action1Left</th><th style = \"text-align: left;\">action2Left</th><th style = \"text-align: left;\">rewardₜ₋₁</th><th style = \"text-align: left;\">rewardₜ₋₂</th><th style = \"text-align: left;\">state1ₜ₋₁</th><th style = \"text-align: left;\">state1ₜ₋₂</th><th style = \"text-align: left;\">state1ₜ₋₃</th><th style = \"text-align: left;\">state2ₜ₋₁</th><th style = \"text-align: left;\">state2ₜ₋₂</th><th style = \"text-align: left;\">state3ₜ₋₁</th><th style = \"text-align: left;\">state3ₜ₋₂</th><th style = \"text-align: left;\">endStateₜ₋₁</th><th style = \"text-align: left;\">endStateₜ₋₂</th><th style = \"text-align: left;\">endBranchLeftₜ₋₁</th><th style = \"text-align: left;\">endBranchLeftₜ₋₂</th><th style = \"text-align: left;\">trial</th><th style = \"text-align: left;\">subject</th><th style = \"text-align: left;\">action1TowardsPrevEnd</th><th style = \"text-align: left;\">action1Persistance</th><th style = \"text-align: left;\">endBranchₜ₋₁SameAsLastChoice</th><th style = \"text-align: left;\">priorMoveAt1</th><th style = \"text-align: left;\">priorMoveAt2</th><th style = \"text-align: left;\">priorMoveAt3</th><th style = \"text-align: left;\">parentPriorMove</th><th style = \"text-align: left;\">parentPriorMoveToEndState</th><th style = \"text-align: left;\">parentPriorMoveToEndStateₜ₋₁</th><th style = \"text-align: left;\">priorRewardAt2</th><th style = \"text-align: left;\">priorRewardAt3</th><th style = \"text-align: left;\">priorRewardAt4</th><th style = \"text-align: left;\">priorRewardAt5</th><th style = \"text-align: left;\">priorRewardAt6</th><th style = \"text-align: left;\">priorRewardAt7</th><th style = \"text-align: left;\">endStateSiblingPriorReward</th><th style = \"text-align: left;\">endStateSiblingPriorRewardₜ₋₁</th><th style = \"text-align: left;\">endStatePriorReward</th><th style = \"text-align: left;\">endStatePriorRewardₜ₋₁</th><th style = \"text-align: left;\">endStatePriorRewardₜ₋₂</th><th style = \"text-align: left;\">priorRewardLeftBranch</th><th style = \"text-align: left;\">priorRewardRightBranch</th><th style = \"text-align: left;\">endStateBranchPriorReward</th><th style = \"text-align: left;\">endStateBranchPriorRewardₜ₋₁</th><th style = \"text-align: left;\">endStateBranchPriorRewardₜ₋₂</th><th style = \"text-align: left;\">sub</th><th style = \"text-align: left;\">assignment</th><th style = \"text-align: left;\">r1</th><th style = \"text-align: left;\">r2</th><th style = \"text-align: left;\">r3</th><th style = \"text-align: left;\">r4</th><th style = \"text-align: left;\">rt_boat</th><th style = \"text-align: left;\">rt_island</th><th style = \"text-align: left;\">rewscaled</th><th style = \"text-align: left;\">rwd_swap</th><th style = \"text-align: left;\">rwd_swap_type</th><th style = \"text-align: left;\">block_ind</th><th style = \"text-align: left;\">block_num</th><th style = \"text-align: left;\">endStateSiblingPriorNoRewardₜ₋₁</th><th style = \"text-align: left;\">c_rewardₜ₋₁</th><th style = \"text-align: left;\">c_parentPriorMoveToEndStateₜ₋₁</th><th style = \"text-align: left;\">c_endStateSiblingPriorNoRewardₜ₋₁</th></tr><tr class = \"subheader headerLastRow\"><th class = \"rowNumber\" style = \"font-weight: bold; text-align: right;\"></th><th title = \"Int64\" style = \"text-align: left;\">Int64</th><th title = \"Int64\" style = \"text-align: left;\">Int64</th><th title = \"Int64\" style = \"text-align: left;\">Int64</th><th title = \"Int64\" style = \"text-align: left;\">Int64</th><th title = \"Bool\" style = \"text-align: left;\">Bool</th><th title = \"Float64\" style = \"text-align: left;\">Float64</th><th title = \"Union{Missing, Bool}\" style = \"text-align: left;\">Bool?</th><th title = \"Union{Missing, Bool}\" style = \"text-align: left;\">Bool?</th><th title = \"Bool\" style = \"text-align: left;\">Bool</th><th title = \"Union{Missing, Float64}\" style = \"text-align: left;\">Float64?</th><th title = \"Union{Missing, Int64}\" style = \"text-align: left;\">Int64?</th><th title = \"Union{Missing, Int64}\" style = \"text-align: left;\">Int64?</th><th title = \"Union{Missing, Int64}\" style = \"text-align: left;\">Int64?</th><th title = \"Union{Missing, Int64}\" style = \"text-align: left;\">Int64?</th><th title = \"Union{Missing, Int64}\" style = \"text-align: left;\">Int64?</th><th title = \"Union{Missing, Int64}\" style = \"text-align: left;\">Int64?</th><th title = \"Union{Missing, Int64}\" style = \"text-align: left;\">Int64?</th><th title = \"Union{Missing, Int64}\" style = \"text-align: left;\">Int64?</th><th title = \"Union{Missing, Int64}\" style = \"text-align: left;\">Int64?</th><th title = \"Union{Missing, Bool}\" style = \"text-align: left;\">Bool?</th><th title = \"Union{Missing, Bool}\" style = \"text-align: left;\">Bool?</th><th title = \"Int64\" style = \"text-align: left;\">Int64</th><th title = \"String\" style = \"text-align: left;\">String</th><th title = \"Bool\" style = \"text-align: left;\">Bool</th><th title = \"Union{Missing, Bool}\" style = \"text-align: left;\">Bool?</th><th title = \"Bool\" style = \"text-align: left;\">Bool</th><th title = \"Union{Missing, Int64}\" style = \"text-align: left;\">Int64?</th><th title = \"Union{Missing, Int64}\" style = \"text-align: left;\">Int64?</th><th title = \"Union{Missing, Int64}\" style = \"text-align: left;\">Int64?</th><th title = \"Union{Missing, Int64}\" style = \"text-align: left;\">Int64?</th><th title = \"Union{Missing, Bool}\" style = \"text-align: left;\">Bool?</th><th title = \"Bool\" style = \"text-align: left;\">Bool</th><th title = \"Union{Missing, Float64}\" style = \"text-align: left;\">Float64?</th><th title = \"Union{Missing, Float64}\" style = \"text-align: left;\">Float64?</th><th title = \"Union{Missing, Float64}\" style = \"text-align: left;\">Float64?</th><th title = \"Union{Missing, Float64}\" style = \"text-align: left;\">Float64?</th><th title = \"Union{Missing, Float64}\" style = \"text-align: left;\">Float64?</th><th title = \"Union{Missing, Float64}\" style = \"text-align: left;\">Float64?</th><th title = \"Union{Missing, Float64}\" style = \"text-align: left;\">Float64?</th><th title = \"Bool\" style = \"text-align: left;\">Bool</th><th title = \"Union{Missing, Float64}\" style = \"text-align: left;\">Float64?</th><th title = \"Union{Missing, Float64}\" style = \"text-align: left;\">Float64?</th><th title = \"Union{Missing, Float64}\" style = \"text-align: left;\">Float64?</th><th title = \"Union{Missing, Float64}\" style = \"text-align: left;\">Float64?</th><th title = \"Union{Missing, Float64}\" style = \"text-align: left;\">Float64?</th><th title = \"Union{Missing, Float64}\" style = \"text-align: left;\">Float64?</th><th title = \"Union{Missing, Float64}\" style = \"text-align: left;\">Float64?</th><th title = \"Union{Missing, Float64}\" style = \"text-align: left;\">Float64?</th><th title = \"Int64\" style = \"text-align: left;\">Int64</th><th title = \"String\" style = \"text-align: left;\">String</th><th title = \"Float64\" style = \"text-align: left;\">Float64</th><th title = \"Float64\" style = \"text-align: left;\">Float64</th><th title = \"Float64\" style = \"text-align: left;\">Float64</th><th title = \"Float64\" style = \"text-align: left;\">Float64</th><th title = \"Real\" style = \"text-align: left;\">Real</th><th title = \"Union{Nothing, Real}\" style = \"text-align: left;\">Union…</th><th title = \"Float64\" style = \"text-align: left;\">Float64</th><th title = \"Bool\" style = \"text-align: left;\">Bool</th><th title = \"String\" style = \"text-align: left;\">String</th><th title = \"Int64\" style = \"text-align: left;\">Int64</th><th title = \"Int64\" style = \"text-align: left;\">Int64</th><th title = \"Bool\" style = \"text-align: left;\">Bool</th><th title = \"Float64\" style = \"text-align: left;\">Float64</th><th title = \"Float64\" style = \"text-align: left;\">Float64</th><th title = \"Float64\" style = \"text-align: left;\">Float64</th></tr></thead><tbody><tr><td class = \"rowNumber\" style = \"font-weight: bold; text-align: right;\">1</td><td style = \"text-align: right;\">1</td><td style = \"text-align: right;\">2</td><td style = \"text-align: right;\">4</td><td style = \"text-align: right;\">4</td><td style = \"text-align: right;\">true</td><td style = \"text-align: right;\">1.0</td><td style = \"text-align: right;\">true</td><td style = \"text-align: right;\">true</td><td style = \"text-align: right;\">true</td><td style = \"text-align: right;\">1.0</td><td style = \"text-align: right;\">7</td><td style = \"text-align: right;\">1</td><td style = \"text-align: right;\">4</td><td style = \"font-style: italic; text-align: right;\">missing</td><td style = \"text-align: right;\">2</td><td style = \"font-style: italic; text-align: right;\">missing</td><td style = \"text-align: right;\">4</td><td style = \"text-align: right;\">7</td><td style = \"text-align: right;\">4</td><td style = \"text-align: right;\">false</td><td style = \"text-align: right;\">true</td><td style = \"text-align: right;\">5</td><td style = \"text-align: left;\">001</td><td style = \"text-align: right;\">false</td><td style = \"text-align: right;\">true</td><td style = \"text-align: right;\">false</td><td style = \"text-align: right;\">2</td><td style = \"text-align: right;\">4</td><td style = \"text-align: right;\">6</td><td style = \"text-align: right;\">4</td><td style = \"text-align: right;\">true</td><td style = \"text-align: right;\">false</td><td style = \"font-style: italic; text-align: right;\">missing</td><td style = \"font-style: italic; text-align: right;\">missing</td><td style = \"text-align: right;\">1.0</td><td style = \"font-style: italic; text-align: right;\">missing</td><td style = \"text-align: right;\">0.0</td><td style = \"text-align: right;\">1.0</td><td style = \"font-style: italic; text-align: right;\">missing</td><td style = \"text-align: right;\">false</td><td style = \"text-align: right;\">1.0</td><td style = \"font-style: italic; text-align: right;\">missing</td><td style = \"text-align: right;\">1.0</td><td style = \"text-align: right;\">1.0</td><td style = \"text-align: right;\">1.0</td><td style = \"text-align: right;\">1.0</td><td style = \"text-align: right;\">0.0</td><td style = \"text-align: right;\">1.0</td><td style = \"text-align: right;\">1</td><td style = \"text-align: left;\">02nzj9jkf5f6zt1qpj88npr9</td><td style = \"text-align: right;\">0.675</td><td style = \"text-align: right;\">0.325</td><td style = \"text-align: right;\">0.15</td><td style = \"text-align: right;\">0.85</td><td style = \"text-align: right;\">841.6</td><td style = \"text-align: left;\">1189.4</td><td style = \"text-align: right;\">1.0</td><td style = \"text-align: right;\">false</td><td style = \"text-align: left;\">start</td><td style = \"text-align: right;\">4</td><td style = \"text-align: right;\">0</td><td style = \"text-align: right;\">true</td><td style = \"text-align: right;\">0.494101</td><td style = \"text-align: right;\">-0.497727</td><td style = \"text-align: right;\">0.414883</td></tr><tr><td class = \"rowNumber\" style = \"font-weight: bold; text-align: right;\">2</td><td style = \"text-align: right;\">1</td><td style = \"text-align: right;\">2</td><td style = \"text-align: right;\">4</td><td style = \"text-align: right;\">4</td><td style = \"text-align: right;\">true</td><td style = \"text-align: right;\">0.0</td><td style = \"text-align: right;\">true</td><td style = \"text-align: right;\">true</td><td style = \"text-align: right;\">false</td><td style = \"text-align: right;\">1.0</td><td style = \"text-align: right;\">5</td><td style = \"text-align: right;\">1</td><td style = \"text-align: right;\">7</td><td style = \"font-style: italic; text-align: right;\">missing</td><td style = \"text-align: right;\">2</td><td style = \"font-style: italic; text-align: right;\">missing</td><td style = \"text-align: right;\">4</td><td style = \"text-align: right;\">5</td><td style = \"text-align: right;\">4</td><td style = \"text-align: right;\">true</td><td style = \"text-align: right;\">true</td><td style = \"text-align: right;\">7</td><td style = \"text-align: left;\">001</td><td style = \"text-align: right;\">true</td><td style = \"text-align: right;\">true</td><td style = \"text-align: right;\">true</td><td style = \"text-align: right;\">2</td><td style = \"text-align: right;\">4</td><td style = \"text-align: right;\">6</td><td style = \"text-align: right;\">4</td><td style = \"text-align: right;\">true</td><td style = \"text-align: right;\">false</td><td style = \"font-style: italic; text-align: right;\">missing</td><td style = \"font-style: italic; text-align: right;\">missing</td><td style = \"text-align: right;\">1.0</td><td style = \"text-align: right;\">0.0</td><td style = \"text-align: right;\">0.0</td><td style = \"text-align: right;\">1.0</td><td style = \"text-align: right;\">0.0</td><td style = \"text-align: right;\">true</td><td style = \"text-align: right;\">1.0</td><td style = \"font-style: italic; text-align: right;\">missing</td><td style = \"text-align: right;\">1.0</td><td style = \"text-align: right;\">0.0</td><td style = \"text-align: right;\">1.0</td><td style = \"text-align: right;\">0.0</td><td style = \"text-align: right;\">1.0</td><td style = \"text-align: right;\">1.0</td><td style = \"text-align: right;\">1</td><td style = \"text-align: left;\">02nzj9jkf5f6zt1qpj88npr9</td><td style = \"text-align: right;\">0.675</td><td style = \"text-align: right;\">0.325</td><td style = \"text-align: right;\">0.15</td><td style = \"text-align: right;\">0.85</td><td style = \"text-align: right;\">733.3</td><td style = \"text-align: left;\">882.9</td><td style = \"text-align: right;\">-1.0</td><td style = \"text-align: right;\">false</td><td style = \"text-align: left;\">start</td><td style = \"text-align: right;\">6</td><td style = \"text-align: right;\">0</td><td style = \"text-align: right;\">false</td><td style = \"text-align: right;\">-0.505899</td><td style = \"text-align: right;\">-0.497727</td><td style = \"text-align: right;\">-0.585117</td></tr><tr><td class = \"rowNumber\" style = \"font-weight: bold; text-align: right;\">3</td><td style = \"text-align: right;\">1</td><td style = \"text-align: right;\">2</td><td style = \"text-align: right;\">4</td><td style = \"text-align: right;\">4</td><td style = \"text-align: right;\">true</td><td style = \"text-align: right;\">0.0</td><td style = \"text-align: right;\">true</td><td style = \"text-align: right;\">true</td><td style = \"text-align: right;\">false</td><td style = \"text-align: right;\">0.0</td><td style = \"text-align: right;\">6</td><td style = \"text-align: right;\">1</td><td style = \"text-align: right;\">5</td><td style = \"font-style: italic; text-align: right;\">missing</td><td style = \"text-align: right;\">2</td><td style = \"font-style: italic; text-align: right;\">missing</td><td style = \"text-align: right;\">4</td><td style = \"text-align: right;\">6</td><td style = \"text-align: right;\">4</td><td style = \"text-align: right;\">false</td><td style = \"text-align: right;\">true</td><td style = \"text-align: right;\">9</td><td style = \"text-align: left;\">001</td><td style = \"text-align: right;\">false</td><td style = \"text-align: right;\">true</td><td style = \"text-align: right;\">false</td><td style = \"text-align: right;\">2</td><td style = \"text-align: right;\">4</td><td style = \"text-align: right;\">6</td><td style = \"text-align: right;\">4</td><td style = \"text-align: right;\">true</td><td style = \"text-align: right;\">true</td><td style = \"font-style: italic; text-align: right;\">missing</td><td style = \"font-style: italic; text-align: right;\">missing</td><td style = \"text-align: right;\">0.0</td><td style = \"text-align: right;\">0.0</td><td style = \"text-align: right;\">0.0</td><td style = \"text-align: right;\">1.0</td><td style = \"text-align: right;\">0.0</td><td style = \"text-align: right;\">true</td><td style = \"text-align: right;\">0.0</td><td style = \"text-align: right;\">0.0</td><td style = \"text-align: right;\">1.0</td><td style = \"text-align: right;\">0.0</td><td style = \"text-align: right;\">0.0</td><td style = \"text-align: right;\">0.0</td><td style = \"text-align: right;\">1.0</td><td style = \"text-align: right;\">0.0</td><td style = \"text-align: right;\">1</td><td style = \"text-align: left;\">02nzj9jkf5f6zt1qpj88npr9</td><td style = \"text-align: right;\">0.675</td><td style = \"text-align: right;\">0.325</td><td style = \"text-align: right;\">0.15</td><td style = \"text-align: right;\">0.85</td><td style = \"text-align: right;\">674.9</td><td style = \"text-align: left;\">1008.3</td><td style = \"text-align: right;\">-1.0</td><td style = \"text-align: right;\">false</td><td style = \"text-align: left;\">start</td><td style = \"text-align: right;\">8</td><td style = \"text-align: right;\">0</td><td style = \"text-align: right;\">false</td><td style = \"text-align: right;\">-0.505899</td><td style = \"text-align: right;\">0.502273</td><td style = \"text-align: right;\">-0.585117</td></tr><tr><td class = \"rowNumber\" style = \"font-weight: bold; text-align: right;\">4</td><td style = \"text-align: right;\">1</td><td style = \"text-align: right;\">2</td><td style = \"text-align: right;\">4</td><td style = \"text-align: right;\">4</td><td style = \"text-align: right;\">true</td><td style = \"text-align: right;\">0.0</td><td style = \"text-align: right;\">true</td><td style = \"text-align: right;\">true</td><td style = \"text-align: right;\">true</td><td style = \"text-align: right;\">0.0</td><td style = \"text-align: right;\">4</td><td style = \"text-align: right;\">1</td><td style = \"text-align: right;\">6</td><td style = \"font-style: italic; text-align: right;\">missing</td><td style = \"text-align: right;\">2</td><td style = \"font-style: italic; text-align: right;\">missing</td><td style = \"text-align: right;\">4</td><td style = \"text-align: right;\">4</td><td style = \"text-align: right;\">4</td><td style = \"text-align: right;\">true</td><td style = \"text-align: right;\">true</td><td style = \"text-align: right;\">11</td><td style = \"text-align: left;\">001</td><td style = \"text-align: right;\">true</td><td style = \"text-align: right;\">true</td><td style = \"text-align: right;\">true</td><td style = \"text-align: right;\">2</td><td style = \"text-align: right;\">4</td><td style = \"text-align: right;\">6</td><td style = \"text-align: right;\">4</td><td style = \"text-align: right;\">true</td><td style = \"text-align: right;\">true</td><td style = \"font-style: italic; text-align: right;\">missing</td><td style = \"font-style: italic; text-align: right;\">missing</td><td style = \"text-align: right;\">1.0</td><td style = \"text-align: right;\">0.0</td><td style = \"text-align: right;\">0.0</td><td style = \"text-align: right;\">1.0</td><td style = \"text-align: right;\">0.0</td><td style = \"text-align: right;\">false</td><td style = \"text-align: right;\">1.0</td><td style = \"text-align: right;\">0.0</td><td style = \"text-align: right;\">0.0</td><td style = \"text-align: right;\">1.0</td><td style = \"text-align: right;\">0.0</td><td style = \"text-align: right;\">1.0</td><td style = \"text-align: right;\">0.0</td><td style = \"text-align: right;\">0.0</td><td style = \"text-align: right;\">1</td><td style = \"text-align: left;\">02nzj9jkf5f6zt1qpj88npr9</td><td style = \"text-align: right;\">0.675</td><td style = \"text-align: right;\">0.325</td><td style = \"text-align: right;\">0.15</td><td style = \"text-align: right;\">0.85</td><td style = \"text-align: right;\">770.6</td><td style = \"text-align: left;\">1228.6</td><td style = \"text-align: right;\">-1.0</td><td style = \"text-align: right;\">false</td><td style = \"text-align: left;\">start</td><td style = \"text-align: right;\">10</td><td style = \"text-align: right;\">0</td><td style = \"text-align: right;\">true</td><td style = \"text-align: right;\">0.494101</td><td style = \"text-align: right;\">0.502273</td><td style = \"text-align: right;\">0.414883</td></tr><tr><td class = \"rowNumber\" style = \"font-weight: bold; text-align: right;\">5</td><td style = \"text-align: right;\">1</td><td style = \"text-align: right;\">2</td><td style = \"text-align: right;\">5</td><td style = \"text-align: right;\">5</td><td style = \"text-align: right;\">true</td><td style = \"text-align: right;\">0.0</td><td style = \"text-align: right;\">true</td><td style = \"text-align: right;\">false</td><td style = \"text-align: right;\">false</td><td style = \"text-align: right;\">0.0</td><td style = \"text-align: right;\">5</td><td style = \"text-align: right;\">1</td><td style = \"text-align: right;\">4</td><td style = \"font-style: italic; text-align: right;\">missing</td><td style = \"text-align: right;\">2</td><td style = \"font-style: italic; text-align: right;\">missing</td><td style = \"text-align: right;\">4</td><td style = \"text-align: right;\">5</td><td style = \"text-align: right;\">4</td><td style = \"text-align: right;\">true</td><td style = \"text-align: right;\">true</td><td style = \"text-align: right;\">13</td><td style = \"text-align: left;\">001</td><td style = \"text-align: right;\">true</td><td style = \"text-align: right;\">true</td><td style = \"text-align: right;\">true</td><td style = \"text-align: right;\">2</td><td style = \"text-align: right;\">4</td><td style = \"text-align: right;\">6</td><td style = \"text-align: right;\">4</td><td style = \"text-align: right;\">false</td><td style = \"text-align: right;\">false</td><td style = \"font-style: italic; text-align: right;\">missing</td><td style = \"font-style: italic; text-align: right;\">missing</td><td style = \"text-align: right;\">0.0</td><td style = \"text-align: right;\">0.0</td><td style = \"text-align: right;\">0.0</td><td style = \"text-align: right;\">1.0</td><td style = \"text-align: right;\">0.0</td><td style = \"text-align: right;\">false</td><td style = \"text-align: right;\">0.0</td><td style = \"text-align: right;\">0.0</td><td style = \"text-align: right;\">1.0</td><td style = \"text-align: right;\">0.0</td><td style = \"text-align: right;\">0.0</td><td style = \"text-align: right;\">0.0</td><td style = \"text-align: right;\">0.0</td><td style = \"text-align: right;\">1.0</td><td style = \"text-align: right;\">1</td><td style = \"text-align: left;\">02nzj9jkf5f6zt1qpj88npr9</td><td style = \"text-align: right;\">0.675</td><td style = \"text-align: right;\">0.325</td><td style = \"text-align: right;\">0.15</td><td style = \"text-align: right;\">0.85</td><td style = \"text-align: right;\">1124</td><td style = \"text-align: left;\">2035.7</td><td style = \"text-align: right;\">-1.0</td><td style = \"text-align: right;\">false</td><td style = \"text-align: left;\">start</td><td style = \"text-align: right;\">12</td><td style = \"text-align: right;\">0</td><td style = \"text-align: right;\">true</td><td style = \"text-align: right;\">-0.505899</td><td style = \"text-align: right;\">-0.497727</td><td style = \"text-align: right;\">0.414883</td></tr></tbody></table></div>"
      ],
      "text/latex": [
       "\\begin{tabular}{r|ccccccccc}\n",
       "\t& state1 & state2 & state3 & endState & endBranchLeft & reward & action1Left & action2Left & \\\\\n",
       "\t\\hline\n",
       "\t& Int64 & Int64 & Int64 & Int64 & Bool & Float64 & Bool? & Bool? & \\\\\n",
       "\t\\hline\n",
       "\t1 & 1 & 2 & 4 & 4 & 1 & 1.0 & 1 & 1 & $\\dots$ \\\\\n",
       "\t2 & 1 & 2 & 4 & 4 & 1 & 0.0 & 1 & 1 & $\\dots$ \\\\\n",
       "\t3 & 1 & 2 & 4 & 4 & 1 & 0.0 & 1 & 1 & $\\dots$ \\\\\n",
       "\t4 & 1 & 2 & 4 & 4 & 1 & 0.0 & 1 & 1 & $\\dots$ \\\\\n",
       "\t5 & 1 & 2 & 5 & 5 & 1 & 0.0 & 1 & 0 & $\\dots$ \\\\\n",
       "\\end{tabular}\n"
      ],
      "text/plain": [
       "\u001b[1m5×65 DataFrame\u001b[0m\n",
       "\u001b[1m Row \u001b[0m│\u001b[1m state1 \u001b[0m\u001b[1m state2 \u001b[0m\u001b[1m state3 \u001b[0m\u001b[1m endState \u001b[0m\u001b[1m endBranchLeft \u001b[0m\u001b[1m reward  \u001b[0m\u001b[1m action1Left \u001b[0m\u001b[1m \u001b[0m ⋯\n",
       "     │\u001b[90m Int64  \u001b[0m\u001b[90m Int64  \u001b[0m\u001b[90m Int64  \u001b[0m\u001b[90m Int64    \u001b[0m\u001b[90m Bool          \u001b[0m\u001b[90m Float64 \u001b[0m\u001b[90m Bool?       \u001b[0m\u001b[90m \u001b[0m ⋯\n",
       "─────┼──────────────────────────────────────────────────────────────────────────\n",
       "   1 │      1       2       4         4           true      1.0         true   ⋯\n",
       "   2 │      1       2       4         4           true      0.0         true\n",
       "   3 │      1       2       4         4           true      0.0         true\n",
       "   4 │      1       2       4         4           true      0.0         true\n",
       "   5 │      1       2       5         5           true      0.0         true   ⋯\n",
       "\u001b[36m                                                              58 columns omitted\u001b[0m"
      ]
     },
     "metadata": {},
     "output_type": "display_data"
    }
   ],
   "source": [
    "df_reg_participants = copy(full_df)\n",
    "\n",
    "df_reg_participants = @chain df_reg_participants begin\n",
    "    @subset(:trial .> 1) # Ignore the first trial (no previous state info)\n",
    "    @subset(:state1ₜ₋₁ .> 3) # End states\n",
    "    dropmissing(:action1TowardsPrevEnd)\n",
    "    dropmissing(:parentPriorMoveToEndStateₜ₋₁)\n",
    "    dropmissing(:endStateSiblingPriorRewardₜ₋₁)\n",
    "    dropmissing(:endBranchₜ₋₁SameAsLastChoice)\n",
    "    dropmissing(:rewardₜ₋₁)\n",
    "    @transform(:endStateSiblingPriorNoRewardₜ₋₁ = :endStateSiblingPriorRewardₜ₋₁ .== 0)\n",
    "end\n",
    "\n",
    "df_reg_participants = @chain df_reg_participants begin\n",
    "    # groupby(:subject)\n",
    "    @transform(:c_rewardₜ₋₁ = :rewardₜ₋₁ .- mean(:rewardₜ₋₁))\n",
    "    @transform(:c_parentPriorMoveToEndStateₜ₋₁ = :parentPriorMoveToEndStateₜ₋₁ .- mean(:parentPriorMoveToEndStateₜ₋₁))\n",
    "    @transform(:c_endStateSiblingPriorNoRewardₜ₋₁ = :endStateSiblingPriorNoRewardₜ₋₁ .- mean(:endStateSiblingPriorNoRewardₜ₋₁))\n",
    "end\n",
    "\n",
    "df_reg_participants.rewardₜ₋₁ .= df_reg_participants.rewardₜ₋₁ .== 1\n",
    "df_reg_participants.endStateSiblingPriorRewardₜ₋₁ .= df_reg_participants.endStateSiblingPriorRewardₜ₋₁ .== 1\n",
    "\n",
    "df_reg_participants[1:5, :]"
   ]
  },
  {
   "cell_type": "markdown",
   "metadata": {},
   "source": [
    "## Regression Results\n",
    "\n",
    "Now we're going to run our regression - first without any centering, which may be more interpretable since all variables are binary measures."
   ]
  },
  {
   "cell_type": "markdown",
   "metadata": {},
   "source": [
    "Reward only"
   ]
  },
  {
   "cell_type": "code",
   "execution_count": 8,
   "metadata": {},
   "outputs": [
    {
     "name": "stdout",
     "output_type": "stream",
     "text": [
      "Generalized Linear Mixed Model fit by maximum likelihood (nAGQ = 1)\n",
      "  action1TowardsPrevEnd ~ 1 + rewardₜ₋₁ + (1 + rewardₜ₋₁ | subject)\n",
      "  Distribution: "
     ]
    },
    {
     "name": "stdout",
     "output_type": "stream",
     "text": [
      "Bernoulli{Float64}\n",
      "  Link: LogitLink()\n",
      "\n",
      "   logLik   "
     ]
    },
    {
     "name": "stdout",
     "output_type": "stream",
     "text": [
      "  deviance      AIC         AICc        BIC     \n",
      " -13316.1192  26632.2385  26642.2385  26642.2415  26681.6495\n",
      "\n"
     ]
    },
    {
     "name": "stdout",
     "output_type": "stream",
     "text": [
      "Variance components:\n",
      "             Column     Variance Std.Dev.   Corr.\n",
      "subject (Intercept)      0.024072 0.155152\n",
      "        rewardₜ₋₁: true  0.183258 0.428086 -0.65\n",
      "\n",
      " Number of obs: 19579; levels of grouping factors: 100\n",
      "\n",
      "Fixed-effects parameters:\n",
      "───────────────────────────────────────────────────────"
     ]
    },
    {
     "name": "stdout",
     "output_type": "stream",
     "text": [
      "\n",
      "                     Coef.  Std. Error      z  Pr(>|z|)\n",
      "───────────────────────────────────────────────────────\n",
      "(Intercept)      -0.117096   0.0256372  "
     ]
    },
    {
     "name": "stdout",
     "output_type": "stream",
     "text": [
      "-4.57    <1e-05\n",
      "rewardₜ₋₁: true   0.49976    0.051753    9.66    <1e-21\n",
      "───────────────────────────────────────────────────────"
     ]
    }
   ],
   "source": [
    "# fm = @formula(action1TowardsPrevEnd ~ rewardₜ₋₁ + (rewardₜ₋₁ | subject))\n",
    "# contr = Dict(:rewardₜ₋₁ => DummyCoding())\n",
    "# reg_rwdonly_dummy_participants = fit(MixedModel, fm, df_reg_participants, Binomial(), progress=false; contrasts=contr)\n",
    "# save(\"results/reg_rwdonly_dummy_participants.jld2\", \"results\", reg_rwdonly_dummy_participants; compress=true)\n",
    "reg_rwdonly_dummy_participants = load(\"results/reg_rwdonly_dummy_participants.jld2\", \"results\");\n",
    "show(reg_rwdonly_dummy_participants)"
   ]
  },
  {
   "cell_type": "code",
   "execution_count": 64,
   "metadata": {},
   "outputs": [
    {
     "data": {
      "text/plain": [
       "19574"
      ]
     },
     "metadata": {},
     "output_type": "display_data"
    }
   ],
   "source": [
    "dof_residual(reg_rwdonly_dummy_participants)"
   ]
  },
  {
   "cell_type": "markdown",
   "metadata": {},
   "source": [
    "Policy and MB interactions"
   ]
  },
  {
   "cell_type": "code",
   "execution_count": 9,
   "metadata": {},
   "outputs": [
    {
     "name": "stdout",
     "output_type": "stream",
     "text": [
      "Generalized Linear Mixed Model fit by maximum likelihood (nAGQ = 1)\n",
      "  action1TowardsPrevEnd ~ 1 + rewardₜ₋₁ + endStateSiblingPriorNoRewardₜ₋₁ + parentPriorMoveToEndStateₜ₋₁ + rewardₜ₋₁ & endStateSiblingPriorNoRewardₜ₋₁ + rewardₜ₋₁ & parentPriorMoveToEndStateₜ₋₁ + endStateSiblingPriorNoRewardₜ₋₁ & parentPriorMoveToEndStateₜ₋₁ + rewardₜ₋₁ & endStateSiblingPriorNoRewardₜ₋₁ & parentPriorMoveToEndStateₜ₋₁ + (1 + rewardₜ₋₁ + endStateSiblingPriorNoRewardₜ₋₁ + rewardₜ₋₁ & endStateSiblingPriorNoRewardₜ₋₁ + parentPriorMoveToEndStateₜ₋₁ + rewardₜ₋₁ & parentPriorMoveToEndStateₜ₋₁ + endStateSiblingPriorNoRewardₜ₋₁ & parentPriorMoveToEndStateₜ₋₁ + rewardₜ₋₁ & endStateSiblingPriorNoRewardₜ₋₁ & parentPriorMoveToEndStateₜ₋₁ | subject)\n",
      "  Distribution: Bernoulli{Float64}\n",
      "  Link: LogitLink()\n",
      "\n",
      "   logLik     deviance      AIC         AICc        BIC     \n",
      " -12663.3635  25326.7269  25414.7269  25414.9296  25761.5443\n",
      "\n"
     ]
    },
    {
     "name": "stdout",
     "output_type": "stream",
     "text": [
      "Variance components:\n",
      "                                                   Column                                             Variance  Std.Dev.   Corr.\n",
      "subject (Intercept)                                                                                   0.1275151 0.3570925\n",
      "        rewardₜ₋₁: true                                                                               0.0020593 0.0453795 +1.00\n",
      "        endStateSiblingPriorNoRewardₜ₋₁: true                                                         0.5385950 0.7338903 -0.91 -0.91\n",
      "        rewardₜ₋₁: true & endStateSiblingPriorNoRewardₜ₋₁: true                                       0.3231069 0.5684249 +0.52 +0.52 -0.70\n",
      "        parentPriorMoveToEndStateₜ₋₁: true                                                            0.6590618 0.8118262 -0.87 -0.87 +0.78 -0.21\n",
      "        rewardₜ₋₁: true & parentPriorMoveToEndStateₜ₋₁: true                                          0.2647769 0.5145647 +0.71 +0.71 -0.77 +0.76 -0.68\n",
      "        endStateSiblingPriorNoRewardₜ₋₁: true & parentPriorMoveToEndStateₜ₋₁: true                    0.8018931 0.8954849 +0.85 +0.85 -0.78 +0.19 -1.00 +0.66\n",
      "        rewardₜ₋₁: true & endStateSiblingPriorNoRewardₜ₋₁: true & parentPriorMoveToEndStateₜ₋₁: true  0.3230775 0.5683990 -0.04 -0.04 +0.31 -0.81 -0.06 -0.66 +0.07\n",
      "\n",
      " Number of obs: 19579; levels of grouping factors: 100\n",
      "\n",
      "Fixed-effects parameters:\n",
      "──────────────────────────────────────────────────────────────────────────────────────────────────────────────────────────────────────\n",
      "                                                                                                   Coef.  Std. Error       z  Pr(>|z|)\n",
      "──────────────────────────────────────────────────────────────────────────────────────────────────────────────────────────────────────\n",
      "(Intercept)                                                                                    0.675623    0.0506576   13.34    <1e-39\n",
      "rewardₜ₋₁: true                                                                               -0.0948219   0.0647844   -1.46    0.1433\n",
      "endStateSiblingPriorNoRewardₜ₋₁: true                                                         -1.4957      0.094566   -15.82    <1e-55\n",
      "parentPriorMoveToEndStateₜ₋₁: true                                                            -1.21691     0.103482   -11.76    <1e-31\n",
      "rewardₜ₋₁: true & endStateSiblingPriorNoRewardₜ₋₁: true                                        0.824349    0.106248     7.76    <1e-14\n",
      "rewardₜ₋₁: true & parentPriorMoveToEndStateₜ₋₁: true                                           0.96702     0.112983     8.56    <1e-16\n",
      "endStateSiblingPriorNoRewardₜ₋₁: true & parentPriorMoveToEndStateₜ₋₁: true                     1.63591     0.127602    12.82    <1e-36\n",
      "rewardₜ₋₁: true & endStateSiblingPriorNoRewardₜ₋₁: true & parentPriorMoveToEndStateₜ₋₁: true  -0.662817    0.141994    -4.67    <1e-05\n",
      "──────────────────────────────────────────────────────────────────────────────────────────────────────────────────────────────────────"
     ]
    }
   ],
   "source": [
    "# fm = @formula(action1TowardsPrevEnd ~ \n",
    "#     + rewardₜ₋₁ * endStateSiblingPriorNoRewardₜ₋₁ * parentPriorMoveToEndStateₜ₋₁\n",
    "#     + (rewardₜ₋₁ * endStateSiblingPriorNoRewardₜ₋₁ * parentPriorMoveToEndStateₜ₋₁\n",
    "#      | subject))\n",
    "# contr = Dict(:rewardₜ₋₁ => DummyCoding(),\n",
    "#      :parentPriorMoveToEndStateₜ₋₁ => DummyCoding(),\n",
    "#      :endStateSiblingPriorNoRewardₜ₋₁ => DummyCoding(),\n",
    "# )\n",
    "# reg_full_dummy_participants = fit(MixedModel, fm, df_reg_participants, Binomial(), progress=false; contrasts=contr)\n",
    "# save(\"results/reg_full_dummy_participants.jld2\", \"results\", reg_full_dummy_participants; compress=true)\n",
    "reg_full_dummy_participants = load(\"results/reg_full_dummy_participants.jld2\", \"results\");\n",
    "show(reg_full_dummy_participants)"
   ]
  },
  {
   "cell_type": "markdown",
   "metadata": {},
   "source": [
    "Centered version\n",
    "\n",
    "Now we're going to fit with centered variables, so effects should represent change at the average value of the MB and SR effect predictors."
   ]
  },
  {
   "cell_type": "code",
   "execution_count": 10,
   "metadata": {},
   "outputs": [
    {
     "name": "stdout",
     "output_type": "stream",
     "text": [
      "Generalized Linear Mixed Model fit by maximum likelihood (nAGQ = 1)\n",
      "  action1TowardsPrevEnd ~ 1 + rewardₜ₋₁ + c_endStateSiblingPriorNoRewardₜ₋₁ + c_parentPriorMoveToEndStateₜ₋₁ + rewardₜ₋₁ & c_endStateSiblingPriorNoRewardₜ₋₁ + rewardₜ₋₁ & c_parentPriorMoveToEndStateₜ₋₁ + c_endStateSiblingPriorNoRewardₜ₋₁ & c_parentPriorMoveToEndStateₜ₋₁ + rewardₜ₋₁ & c_endStateSiblingPriorNoRewardₜ₋₁ & c_parentPriorMoveToEndStateₜ₋₁ + (1 + rewardₜ₋₁ + c_endStateSiblingPriorNoRewardₜ₋₁ + rewardₜ₋₁ & c_endStateSiblingPriorNoRewardₜ₋₁ + c_parentPriorMoveToEndStateₜ₋₁ + rewardₜ₋₁ & c_parentPriorMoveToEndStateₜ₋₁ + c_endStateSiblingPriorNoRewardₜ₋₁ & c_parentPriorMoveToEndStateₜ₋₁ + rewardₜ₋₁ & c_endStateSiblingPriorNoRewardₜ₋₁ & c_parentPriorMoveToEndStateₜ₋₁ | subject)\n",
      "  Distribution: Bernoulli{Float64}\n",
      "  Link: LogitLink()\n",
      "\n",
      "   logLik     deviance      AIC         AICc        BIC     \n",
      " -12658.2287  25316.4574  25404.4574  25404.6601  25751.2747\n",
      "\n"
     ]
    },
    {
     "name": "stdout",
     "output_type": "stream",
     "text": [
      "Variance components:\n",
      "                                               Column                                        Variance Std.Dev.   Corr.\n",
      "subject (Intercept)                                                                           0.057221 0.239210\n",
      "        rewardₜ₋₁: true                                                                       0.253443 0.503431 -0.78\n",
      "        c_endStateSiblingPriorNoRewardₜ₋₁                                                     0.202980 0.450533 +0.76 -0.81\n",
      "        rewardₜ₋₁: true & c_endStateSiblingPriorNoRewardₜ₋₁                                   0.103573 0.321828 -0.65 +0.79 -0.90\n",
      "        c_parentPriorMoveToEndStateₜ₋₁                                                        0.093541 0.305845 +0.59 -0.54 +0.23 -0.49\n",
      "        rewardₜ₋₁: true & c_parentPriorMoveToEndStateₜ₋₁                                      0.168368 0.410326 -0.53 +0.49 -0.18 +0.47 -1.00\n",
      "        c_endStateSiblingPriorNoRewardₜ₋₁ & c_parentPriorMoveToEndStateₜ₋₁                    0.887034 0.941825 -0.65 +0.43 -0.27 +0.50 -0.94 +0.94\n",
      "        rewardₜ₋₁: true & c_endStateSiblingPriorNoRewardₜ₋₁ & c_parentPriorMoveToEndStateₜ₋₁  0.151242 0.388899 +0.57 -0.47 +0.39 -0.16 -0.02 +0.04 -0.09\n",
      "\n",
      " Number of obs: 19579; levels of grouping factors: 100\n",
      "\n",
      "Fixed-effects parameters:\n",
      "─────────────────────────────────────────────────────────────────────────────────────────────────────────────────────────────\n",
      "                                                                                          Coef.  Std. Error       z  Pr(>|z|)\n",
      "─────────────────────────────────────────────────────────────────────────────────────────────────────────────────────────────\n",
      "(Intercept)                                                                           -0.327872   0.0332324   -9.87    <1e-22\n",
      "rewardₜ₋₁: true                                                                        0.675408   0.0596001   11.33    <1e-29\n",
      "c_endStateSiblingPriorNoRewardₜ₋₁                                                     -0.682595   0.0639873  -10.67    <1e-25\n",
      "c_parentPriorMoveToEndStateₜ₋₁                                                        -0.260963   0.0553768   -4.71    <1e-05\n",
      "rewardₜ₋₁: true & c_endStateSiblingPriorNoRewardₜ₋₁                                    0.492545   0.0728176    6.76    <1e-10\n",
      "rewardₜ₋₁: true & c_parentPriorMoveToEndStateₜ₋₁                                       0.580056   0.0759078    7.64    <1e-13\n",
      "c_endStateSiblingPriorNoRewardₜ₋₁ & c_parentPriorMoveToEndStateₜ₋₁                     1.63971    0.130921    12.52    <1e-35\n",
      "rewardₜ₋₁: true & c_endStateSiblingPriorNoRewardₜ₋₁ & c_parentPriorMoveToEndStateₜ₋₁  -0.661891   0.135863    -4.87    <1e-05\n",
      "─────────────────────────────────────────────────────────────────────────────────────────────────────────────────────────────"
     ]
    }
   ],
   "source": [
    "# fm_c = @formula(action1TowardsPrevEnd ~ \n",
    "#     + rewardₜ₋₁ * c_endStateSiblingPriorNoRewardₜ₋₁ * c_parentPriorMoveToEndStateₜ₋₁\n",
    "#     + (rewardₜ₋₁ * c_endStateSiblingPriorNoRewardₜ₋₁ * c_parentPriorMoveToEndStateₜ₋₁\n",
    "#      | subject))\n",
    "# contr = Dict(:rewardₜ₋₁ => DummyCoding(),\n",
    "#      :parentPriorMoveToEndStateₜ₋₁ => DummyCoding(),\n",
    "#      :endStateSiblingPriorNoRewardₜ₋₁ => DummyCoding(),\n",
    "# )\n",
    "# reg_dummy_participants_c = fit(MixedModel, fm_c, df_reg_participants, Binomial(), progress=false; contrasts=contr)\n",
    "# save(\"results/reg_dummy_participants_c.jld2\", \"results\", reg_dummy_participants_c; compress=true)\n",
    "reg_dummy_participants_c = load(\"results/reg_dummy_participants_c.jld2\", \"results\")\n",
    "show(reg_dummy_participants_c)"
   ]
  },
  {
   "cell_type": "markdown",
   "metadata": {},
   "source": [
    "# Simulated Data\n",
    "\n",
    "Data is being simulated with the same 'swap' reward structure as the experiment.\n",
    "\n",
    "Parameters have the same range as fits - so learning rate goes from $-\\infty$ to $+\\infty$, and will go through a unitnorm first. This means we can directly pass in the paramters and their variances from the model.\n",
    "\n",
    "Currently not accounting for a full covariance fit"
   ]
  },
  {
   "cell_type": "code",
   "execution_count": 11,
   "metadata": {},
   "outputs": [
    {
     "data": {
      "text/plain": [
       "within_swap! (generic function with 1 method)"
      ]
     },
     "metadata": {},
     "output_type": "display_data"
    }
   ],
   "source": [
    "\"\"\" These functions take the current reward state, as well as left/right indices of the currently best rewards\n",
    "So if policy_side_2 = 1, then on the right island, the left boat (1) is better than the right (2)\n",
    "\"\"\"\n",
    "function onpolicy_swap!(rewards, policy_side_1, policy_side_2)\n",
    "    rewards[policy_side_1], rewards[2 + policy_side_2] = rewards[2 + policy_side_2], rewards[policy_side_1]\n",
    "    rewards[3 - policy_side_1], rewards[5 - policy_side_2] = rewards[5 - policy_side_2], rewards[3 - policy_side_1]\n",
    "    (policy_side_1, policy_side_2)\n",
    "end\n",
    "\n",
    "function offpolicy_swap!(rewards, policy_side_1, policy_side_2)\n",
    "    rewards[policy_side_1], rewards[5 - policy_side_2] = rewards[5 - policy_side_2], rewards[policy_side_1]\n",
    "    rewards[3 - policy_side_1], rewards[2 + policy_side_2] = rewards[2 + policy_side_2], rewards[3 - policy_side_1]\n",
    "    (3 - policy_side_1, 3 - policy_side_2)\n",
    "end\n",
    "\n",
    "function within_swap!(rewards, policy_side_1, policy_side_2)\n",
    "    rewards[1], rewards[2] = rewards[2], rewards[1]\n",
    "    rewards[3], rewards[4] = rewards[4], rewards[3]\n",
    "    (3 - policy_side_1, 3 - policy_side_2)\n",
    "end"
   ]
  },
  {
   "cell_type": "code",
   "execution_count": 12,
   "metadata": {},
   "outputs": [
    {
     "data": {
      "text/plain": [
       "sim_drift_LRL (generic function with 1 method)"
      ]
     },
     "metadata": {},
     "output_type": "display_data"
    }
   ],
   "source": [
    "function sim_drift_LRL(;βLRL, βBoat, island_bias, boat_bias, α, αT, log_λ, σβLRL, σβBoat, σisland_bias, σboat_bias, σα, σαT, σlog_λ, nsims)\n",
    "    dfs = []\n",
    "    Threads.@threads for s in 1:nsims\n",
    "        Random.seed!(s)\n",
    "        rewards = shuffle([0.15, 0.325, 0.675, 0.85])\n",
    "        policy_side_1 = rewards[1] > rewards[2] ? 1 : 2    \n",
    "        policy_side_2 = rewards[3] > rewards[4] ? 1 : 2\n",
    "        block_lens = shuffle([8, 8, 8, 8, 8, 8, 8, 8, 8, 9, 9, 9, 9, 9, 9, 10, 10, 10, 10, 11, 11, 12])\n",
    "        condition_bad = false\n",
    "        # condition_bad = s > 50\n",
    "        # if condition_bad\n",
    "        #     block_types = vcat(0, shuffle([0, 0, 0, 2, 2, 2, 1, 1, 1, 1, 1, 1, 1, 1, 1, 1, 1, 1, 1, 1, 1]))\n",
    "        # else\n",
    "        block_types = vcat(0, shuffle([1, 1, 1, 2, 2, 2, 0, 0, 0, 0, 0, 0, 0, 0, 0, 0, 0, 0, 0, 0, 0]))\n",
    "        # end\n",
    "        env = make_env(rewards)\n",
    "        s_βLRL = rand(Normal(βLRL, σβLRL))\n",
    "        s_βBoat = rand(Normal(βBoat, σβBoat))\n",
    "        s_island_bias = rand(Normal(island_bias, σisland_bias))\n",
    "        s_boat_bias = rand(Normal(boat_bias, σboat_bias))\n",
    "        s_α = rand(Normal(α, σα)) \n",
    "        s_αT = rand(Normal(αT, σαT))\n",
    "        s_log_λ = rand(Normal(log_λ, σlog_λ))\n",
    "        s_λ = exp(s_log_λ)\n",
    "        c = 0.1\n",
    "        # agent = TD0TD1SRMBWeightedAgent(env, TD0, TD1, SR, MB, βTD0, βTD1, βSR, βMB, βBoat)\n",
    "        agent = LRLTwoStepSoftmax(env; α=unitnorm(s_α), αT=unitnorm(s_αT), λ=s_λ, c=c, β1=s_βLRL, β2=s_βBoat)\n",
    "        agentRecord = RLSR.Record(agent, sum(block_lens))\n",
    "        episodeRecord = Vector{Episode}()\n",
    "        rwd_swap_types = []\n",
    "        for i in 1:length(block_lens)\n",
    "            block_type = block_types[i]\n",
    "            if (i == 1)\n",
    "                push!(rwd_swap_types, repeat([\"start\"], block_lens[i]*2))\n",
    "            elseif block_type == 0\n",
    "                policy_side_1, policy_side_2 = onpolicy_swap!(rewards, policy_side_1, policy_side_2)\n",
    "                push!(rwd_swap_types, repeat([\"good\"], block_lens[i]*2))\n",
    "            elseif block_type == 1\n",
    "                policy_side_1, policy_side_2 = offpolicy_swap!(rewards, policy_side_1, policy_side_2)\n",
    "                push!(rwd_swap_types, repeat([\"bad\"], block_lens[i]*2))\n",
    "            else\n",
    "                policy_side_1, policy_side_2 = within_swap!(rewards, policy_side_1, policy_side_2)\n",
    "                push!(rwd_swap_types, repeat([\"within\"], block_lens[i]*2))\n",
    "            end\n",
    "            update_rewards!(agent, rewards)\n",
    "            run_trials!(agent, block_lens[i]*2, agentRecord, episodeRecord)\n",
    "        end\n",
    "        df = RunToDataFrame(episodeRecord, subject=s)\n",
    "\n",
    "        df[!, \"rwd_swap_type\"] .= vcat(rwd_swap_types...)\n",
    "        df[!, \"sub\"] .= s\n",
    "        df[!, \"subject\"] .= lpad(s, 3, \"0\")\n",
    "        df[!, \"condition_bad\"] .= condition_bad\n",
    "        df.rewscaled .= df.reward\n",
    "        df.reward .= (df.reward .+ 1.0) ./ 2.0\n",
    "        # (episodeRecord, agentRecord) = run_trials_drift(agent, ntrials, 0.025; lb=0.25, ub=0.75)\n",
    "        # df_tmp = RunToDataFrame(episodeRecord; subject=s) \n",
    "        df.rewardₜ₋₁ = (df.rewardₜ₋₁ ./ 2) .+ 0.5  # Set reward to 0/1\n",
    "        df.endStateSiblingPriorRewardₜ₋₁ = (df.endStateSiblingPriorRewardₜ₋₁ ./ 2) .+ 0.5\n",
    "        push!(dfs, df)\n",
    "    end\n",
    "    vcat(dfs...)\n",
    "end"
   ]
  },
  {
   "cell_type": "code",
   "execution_count": 13,
   "metadata": {},
   "outputs": [
    {
     "data": {
      "text/plain": [
       "sim_drift_LRL_twoλ (generic function with 1 method)"
      ]
     },
     "metadata": {},
     "output_type": "display_data"
    }
   ],
   "source": [
    "function sim_drift_LRL_twoλ(;βLRL, βBoat, island_bias, boat_bias, α, αT, log_λ1, log_λ2, σβLRL, σβBoat, σisland_bias, σboat_bias, σα, σαT, σlog_λ1, σlog_λ2, nsims)\n",
    "    dfs = []\n",
    "    Threads.@threads for s in 1:nsims\n",
    "        Random.seed!(s)\n",
    "        rewards = shuffle([0.15, 0.325, 0.675, 0.85])\n",
    "        policy_side_1 = rewards[1] > rewards[2] ? 1 : 2    \n",
    "        policy_side_2 = rewards[3] > rewards[4] ? 1 : 2\n",
    "        block_lens = shuffle([8, 8, 8, 8, 8, 8, 8, 8, 8, 9, 9, 9, 9, 9, 9, 10, 10, 10, 10, 11, 11, 12])\n",
    "        condition_bad = false\n",
    "        # condition_bad = s > 50\n",
    "        # if condition_bad\n",
    "        #     block_types = vcat(0, shuffle([0, 0, 0, 2, 2, 2, 1, 1, 1, 1, 1, 1, 1, 1, 1, 1, 1, 1, 1, 1, 1]))\n",
    "        # else\n",
    "        block_types = vcat(0, shuffle([1, 1, 1, 2, 2, 2, 0, 0, 0, 0, 0, 0, 0, 0, 0, 0, 0, 0, 0, 0, 0]))\n",
    "        # end\n",
    "        env = make_env(rewards)\n",
    "        s_βLRL = rand(Normal(βLRL, σβLRL))\n",
    "        s_βBoat = rand(Normal(βBoat, σβBoat))\n",
    "        s_island_bias = rand(Normal(island_bias, σisland_bias))\n",
    "        s_boat_bias = rand(Normal(boat_bias, σboat_bias))\n",
    "        s_α = rand(Normal(α, σα)) \n",
    "        s_αT = rand(Normal(αT, σαT))\n",
    "        s_log_λ1 = rand(Normal(log_λ1, σlog_λ1))\n",
    "        s_log_λ2 = rand(Normal(log_λ2, σlog_λ2))\n",
    "        s_λ1 = exp(s_log_λ1)\n",
    "        s_λ2 = exp(s_log_λ2)\n",
    "        c = 0.1\n",
    "        # agent = TD0TD1SRMBWeightedAgent(env, TD0, TD1, SR, MB, βTD0, βTD1, βSR, βMB, βBoat)\n",
    "        agent = LRLTwoStepSoftmax(env; α=unitnorm(s_α), αT=unitnorm(s_αT), λ=s_λ1, c=c, β1=s_βLRL, β2=s_βBoat)\n",
    "        agentRecord = RLSR.Record(agent, sum(block_lens))\n",
    "        episodeRecord = Vector{Episode}()\n",
    "        rwd_swap_types = []\n",
    "        for i in 1:length(block_lens)\n",
    "            block_type = block_types[i]\n",
    "            if (i == 1)\n",
    "                push!(rwd_swap_types, repeat([\"start\"], block_lens[i]*2))\n",
    "                agent.model.λ = s_λ1\n",
    "            elseif block_type == 0\n",
    "                policy_side_1, policy_side_2 = onpolicy_swap!(rewards, policy_side_1, policy_side_2)\n",
    "                push!(rwd_swap_types, repeat([\"good\"], block_lens[i]*2))\n",
    "                agent.model.λ = s_λ1\n",
    "            elseif block_type == 1\n",
    "                policy_side_1, policy_side_2 = offpolicy_swap!(rewards, policy_side_1, policy_side_2)\n",
    "                push!(rwd_swap_types, repeat([\"bad\"], block_lens[i]*2))\n",
    "                agent.model.λ = s_λ2\n",
    "            else\n",
    "                policy_side_1, policy_side_2 = within_swap!(rewards, policy_side_1, policy_side_2)\n",
    "                push!(rwd_swap_types, repeat([\"within\"], block_lens[i]*2))\n",
    "                agent.model.λ = s_λ2\n",
    "            end\n",
    "            update_rewards!(agent, rewards)\n",
    "            run_trials!(agent, block_lens[i]*2, agentRecord, episodeRecord)\n",
    "        end\n",
    "        df = RunToDataFrame(episodeRecord, subject=s)\n",
    "\n",
    "        df[!, \"rwd_swap_type\"] .= vcat(rwd_swap_types...)\n",
    "        df[!, \"sub\"] .= s\n",
    "        df[!, \"condition_bad\"] .= condition_bad\n",
    "        df.rewscaled .= df.reward\n",
    "        df.reward .= (df.reward .+ 1.0) ./ 2.0\n",
    "        # (episodeRecord, agentRecord) = run_trials_drift(agent, ntrials, 0.025; lb=0.25, ub=0.75)\n",
    "        # df_tmp = RunToDataFrame(episodeRecord; subject=s) \n",
    "        df.rewardₜ₋₁ = (df.rewardₜ₋₁ ./ 2) .+ 0.5  # Set reward to 0/1\n",
    "        df.endStateSiblingPriorRewardₜ₋₁ = (df.endStateSiblingPriorRewardₜ₋₁ ./ 2) .+ 0.5\n",
    "        push!(dfs, df)\n",
    "    end\n",
    "    vcat(dfs...)\n",
    "end"
   ]
  },
  {
   "cell_type": "code",
   "execution_count": 14,
   "metadata": {},
   "outputs": [
    {
     "data": {
      "text/plain": [
       "filter_df (generic function with 1 method)"
      ]
     },
     "metadata": {},
     "output_type": "display_data"
    }
   ],
   "source": [
    "function filter_df(df)\n",
    "    df_reg = copy(df)\n",
    "\n",
    "    df_reg = @chain df_reg begin\n",
    "        @subset(:trial .> 1) # Ignore the first trial (no previous state info)\n",
    "        @subset(:state1ₜ₋₁ .> 3) # End states\n",
    "        dropmissing(:parentPriorMoveToEndStateₜ₋₁)\n",
    "        dropmissing(:endStateSiblingPriorRewardₜ₋₁)\n",
    "        dropmissing(:endBranchₜ₋₁SameAsLastChoice)\n",
    "        dropmissing(:rewardₜ₋₁)\n",
    "        @transform(:endStateSiblingPriorNoRewardₜ₋₁ = :endStateSiblingPriorRewardₜ₋₁ .== 0)\n",
    "    end\n",
    "\n",
    "    df_reg = @chain df_reg begin\n",
    "        # groupby(:subject)\n",
    "        @transform(:c_rewardₜ₋₁ = :rewardₜ₋₁ .- mean(:rewardₜ₋₁))\n",
    "        @transform(:c_parentPriorMoveToEndStateₜ₋₁ = :parentPriorMoveToEndStateₜ₋₁ .- mean(:parentPriorMoveToEndStateₜ₋₁))\n",
    "        @transform(:c_endStateSiblingPriorNoRewardₜ₋₁ = :endStateSiblingPriorNoRewardₜ₋₁ .- mean(:endStateSiblingPriorNoRewardₜ₋₁))\n",
    "    end\n",
    "\n",
    "    df_reg.rewardₜ₋₁ .= df_reg.rewardₜ₋₁ .== 1\n",
    "    df_reg.endStateSiblingPriorRewardₜ₋₁ .= df_reg.endStateSiblingPriorRewardₜ₋₁ .== 1\n",
    "\n",
    "    return df_reg\n",
    "end"
   ]
  },
  {
   "cell_type": "code",
   "execution_count": 11,
   "metadata": {},
   "outputs": [],
   "source": [
    "# dfs_sim_m6 = sim_drift_LRL(;βLRL=r1.betas[1], βBoat=r1.betas[2], island_bias=0.0, boat_bias=0.0, α=invunitnorm(0.99), αT=invunitnorm(0.99), log_λ=-6.0, σβLRL=r1.sigma[1], σβBoat=r1.sigma[2], σisland_bias=r1.sigma[3], σboat_bias=r1.sigma[4], σα=0, σαT=0, σlog_λ=0.01, nsims=200)\n",
    "# df_reg_sim_m6 = filter_df(dfs_sim_m6)\n",
    "# counts_sim_m6 = dropmissing(get_switch_counts(dfs_sim_m6));\n",
    "\n",
    "# dfs_sim_m2_5 = sim_drift_LRL(;βLRL=r1.betas[1], βBoat=r1.betas[2], island_bias=0.0, boat_bias=0.0, α=invunitnorm(0.99), αT=invunitnorm(0.99), log_λ=-2.5, σβLRL=r1.sigma[1], σβBoat=r1.sigma[2], σisland_bias=r1.sigma[3], σboat_bias=r1.sigma[4], σα=0, σαT=0, σlog_λ=0.01, nsims=200)\n",
    "# df_reg_sim_m2_5 = filter_df(dfs_sim_m2_5)\n",
    "# counts_sim_m2_5 = dropmissing(get_switch_counts(dfs_sim_m2_5));\n",
    "\n",
    "# dfs_sim_0 = sim_drift_LRL(;βLRL=r1.betas[1], βBoat=r1.betas[2], island_bias=0.0, boat_bias=0.0, α=invunitnorm(0.99), αT=invunitnorm(0.99), log_λ=0.0, σβLRL=r1.sigma[1], σβBoat=r1.sigma[2], σisland_bias=r1.sigma[3], σboat_bias=r1.sigma[4], σα=0, σαT=0, σlog_λ=0.01, nsims=200)\n",
    "# df_reg_sim_0 = filter_df(dfs_sim_0)\n",
    "# counts_sim_0 = dropmissing(get_switch_counts(dfs_sim_0));"
   ]
  },
  {
   "cell_type": "markdown",
   "metadata": {},
   "source": [
    "Low lambda, uncentered"
   ]
  },
  {
   "cell_type": "code",
   "execution_count": 12,
   "metadata": {},
   "outputs": [
    {
     "data": {
      "text/plain": [
       "Dict{Symbol, DummyCoding} with 1 entry:\n",
       "  :rewardₜ₋₁ => DummyCoding(nothing, nothing)"
      ]
     },
     "metadata": {},
     "output_type": "display_data"
    }
   ],
   "source": [
    "fm_rwd = @formula(action1TowardsPrevEnd ~ rewardₜ₋₁ + (rewardₜ₋₁ | subject))\n",
    "contr_rwd = Dict(:rewardₜ₋₁ => DummyCoding())"
   ]
  },
  {
   "cell_type": "code",
   "execution_count": 13,
   "metadata": {},
   "outputs": [
    {
     "data": {
      "text/plain": [
       "Dict{Symbol, DummyCoding} with 3 entries:\n",
       "  :endStateSiblingPriorNoRewardₜ₋₁ => DummyCoding(nothing, nothing)\n",
       "  :rewardₜ₋₁                       => DummyCoding(nothing, nothing)\n",
       "  :parentPriorMoveToEndStateₜ₋₁    => DummyCoding(nothing, nothing)"
      ]
     },
     "metadata": {},
     "output_type": "display_data"
    }
   ],
   "source": [
    "fm_full = @formula(action1TowardsPrevEnd ~ \n",
    "    + rewardₜ₋₁ * endStateSiblingPriorNoRewardₜ₋₁ * parentPriorMoveToEndStateₜ₋₁\n",
    "    + (rewardₜ₋₁ * endStateSiblingPriorNoRewardₜ₋₁ * parentPriorMoveToEndStateₜ₋₁\n",
    "     | subject))\n",
    "contr_full = Dict(:rewardₜ₋₁ => DummyCoding(),\n",
    "     :parentPriorMoveToEndStateₜ₋₁ => DummyCoding(),\n",
    "     :endStateSiblingPriorNoRewardₜ₋₁ => DummyCoding(),\n",
    ")"
   ]
  },
  {
   "cell_type": "code",
   "execution_count": 16,
   "metadata": {},
   "outputs": [
    {
     "data": {
      "text/latex": [
       "\\begin{tabular}\n",
       "{l | r | r | r | r | r}\n",
       " & Est. & SE & z & p & $\\sigma_\\text{subject}$ \\\\\n",
       "\\hline\n",
       "(Intercept) & -0.2496 & 0.0299 & -8.34 & <1e-16 & 0.3701 \\\\\n",
       "rewardₜ₋₁: true & 0.7375 & 0.0617 & 11.96 & <1e-32 & 0.8206 \\\\\n",
       "\\end{tabular}\n"
      ],
      "text/markdown": [
       "|                 |    Est. |     SE |     z |      p | σ_subject |\n",
       "|:--------------- | -------:| ------:| -----:| ------:| ---------:|\n",
       "| (Intercept)     | -0.2496 | 0.0299 | -8.34 | <1e-16 |    0.3701 |\n",
       "| rewardₜ₋₁: true |  0.7375 | 0.0617 | 11.96 | <1e-32 |    0.8206 |\n"
      ],
      "text/plain": [
       "Generalized Linear Mixed Model fit by maximum likelihood (nAGQ = 1)\n",
       "  action1TowardsPrevEnd ~ 1 + rewardₜ₋₁ + (1 + rewardₜ₋₁ | subject)\n",
       "  Distribution: Bernoulli{Float64}\n",
       "  Link: LogitLink()\n",
       "\n",
       "   logLik     deviance      AIC         AICc        BIC     \n",
       " -26093.9979  52187.9957  52197.9957  52197.9972  52240.9041\n",
       "\n",
       "Variance components:\n",
       "             Column     Variance Std.Dev.   Corr.\n",
       "subject (Intercept)      0.136960 0.370081\n",
       "        rewardₜ₋₁: true  0.673378 0.820596 -1.00\n",
       "\n",
       " Number of obs: 39406; levels of grouping factors: 200\n",
       "\n",
       "Fixed-effects parameters:\n",
       "───────────────────────────────────────────────────────\n",
       "                     Coef.  Std. Error      z  Pr(>|z|)\n",
       "───────────────────────────────────────────────────────\n",
       "(Intercept)      -0.249614   0.0299464  -8.34    <1e-16\n",
       "rewardₜ₋₁: true   0.737512   0.0616805  11.96    <1e-32\n",
       "───────────────────────────────────────────────────────"
      ]
     },
     "metadata": {},
     "output_type": "display_data"
    }
   ],
   "source": [
    "# reg_rwdonly_dummy_sim_m6 = fit(MixedModel, fm_rwd, df_reg_sim_m6, Binomial(), progress=false; contrasts=contr_rwd)\n",
    "# reg_rwdonly_dummy_sim_m2_5 = fit(MixedModel, fm_rwd, df_reg_sim_m2_5, Binomial(), progress=false; contrasts=contr_rwd)\n",
    "# reg_rwdonly_dummy_sim_0 = fit(MixedModel, fm_rwd, df_reg_sim_0, Binomial(), progress=false; contrasts=contr_rwd)\n",
    "# save(\"results/reg_rwdonly_dummy_sim_m6.jld2\", \"results\", reg_rwdonly_dummy_sim_m6; compress=true)\n",
    "# save(\"results/reg_rwdonly_dummy_sim_m2_5.jld2\", \"results\", reg_rwdonly_dummy_sim_m2_5; compress=true)\n",
    "# save(\"results/reg_rwdonly_dummy_sim_0.jld2\", \"results\", reg_rwdonly_dummy_sim_0; compress=true)\n",
    "\n",
    "reg_rwdonly_dummy_sim_m6 = load(\"results/reg_rwdonly_dummy_sim_m6.jld2\")[\"results\"]\n",
    "reg_rwdonly_dummy_sim_m2_5 = load(\"results/reg_rwdonly_dummy_sim_m2_5.jld2\")[\"results\"]\n",
    "reg_rwdonly_dummy_sim_0 = load(\"results/reg_rwdonly_dummy_sim_0.jld2\")[\"results\"]\n",
    "\n",
    "# show(reg_rwdonly_dummy_sim_m6)"
   ]
  },
  {
   "cell_type": "code",
   "execution_count": 18,
   "metadata": {},
   "outputs": [
    {
     "data": {
      "text/latex": [
       "\\begin{tabular}\n",
       "{l | r | r | r | r | r}\n",
       " & Est. & SE & z & p & $\\sigma_\\text{subject}$ \\\\\n",
       "\\hline\n",
       "(Intercept) & 1.2668 & 0.0713 & 17.78 & <1e-69 & 0.8824 \\\\\n",
       "rewardₜ₋₁: true & 0.1372 & 0.0612 & 2.24 & 0.0249 & 0.3849 \\\\\n",
       "endStateSiblingPriorNoRewardₜ₋₁: true & -1.9898 & 0.1244 & -16.00 & <1e-56 & 1.6346 \\\\\n",
       "parentPriorMoveToEndStateₜ₋₁: true & -2.0115 & 0.1251 & -16.08 & <1e-57 & 1.5862 \\\\\n",
       "rewardₜ₋₁: true \\& endStateSiblingPriorNoRewardₜ₋₁: true & 0.0147 & 0.0716 & 0.21 & 0.8373 & 0.2165 \\\\\n",
       "rewardₜ₋₁: true \\& parentPriorMoveToEndStateₜ₋₁: true & 1.5261 & 0.1257 & 12.14 & <1e-33 & 1.3217 \\\\\n",
       "endStateSiblingPriorNoRewardₜ₋₁: true \\& parentPriorMoveToEndStateₜ₋₁: true & 2.1402 & 0.1338 & 15.99 & <1e-56 & 1.6169 \\\\\n",
       "rewardₜ₋₁: true \\& endStateSiblingPriorNoRewardₜ₋₁: true \\& parentPriorMoveToEndStateₜ₋₁: true & -0.0129 & 0.1034 & -0.13 & 0.9004 & 0.1816 \\\\\n",
       "\\end{tabular}\n"
      ],
      "text/markdown": [
       "|                                                                                              |    Est. |     SE |      z |      p | σ_subject |\n",
       "|:-------------------------------------------------------------------------------------------- | -------:| ------:| ------:| ------:| ---------:|\n",
       "| (Intercept)                                                                                  |  1.2668 | 0.0713 |  17.78 | <1e-69 |    0.8824 |\n",
       "| rewardₜ₋₁: true                                                                              |  0.1372 | 0.0612 |   2.24 | 0.0249 |    0.3849 |\n",
       "| endStateSiblingPriorNoRewardₜ₋₁: true                                                        | -1.9898 | 0.1244 | -16.00 | <1e-56 |    1.6346 |\n",
       "| parentPriorMoveToEndStateₜ₋₁: true                                                           | -2.0115 | 0.1251 | -16.08 | <1e-57 |    1.5862 |\n",
       "| rewardₜ₋₁: true & endStateSiblingPriorNoRewardₜ₋₁: true                                      |  0.0147 | 0.0716 |   0.21 | 0.8373 |    0.2165 |\n",
       "| rewardₜ₋₁: true & parentPriorMoveToEndStateₜ₋₁: true                                         |  1.5261 | 0.1257 |  12.14 | <1e-33 |    1.3217 |\n",
       "| endStateSiblingPriorNoRewardₜ₋₁: true & parentPriorMoveToEndStateₜ₋₁: true                   |  2.1402 | 0.1338 |  15.99 | <1e-56 |    1.6169 |\n",
       "| rewardₜ₋₁: true & endStateSiblingPriorNoRewardₜ₋₁: true & parentPriorMoveToEndStateₜ₋₁: true | -0.0129 | 0.1034 |  -0.13 | 0.9004 |    0.1816 |\n"
      ],
      "text/plain": [
       "Generalized Linear Mixed Model fit by maximum likelihood (nAGQ = 1)\n",
       "  action1TowardsPrevEnd ~ 1 + rewardₜ₋₁ + endStateSiblingPriorNoRewardₜ₋₁ + parentPriorMoveToEndStateₜ₋₁ + rewardₜ₋₁ & endStateSiblingPriorNoRewardₜ₋₁ + rewardₜ₋₁ & parentPriorMoveToEndStateₜ₋₁ + endStateSiblingPriorNoRewardₜ₋₁ & parentPriorMoveToEndStateₜ₋₁ + rewardₜ₋₁ & endStateSiblingPriorNoRewardₜ₋₁ & parentPriorMoveToEndStateₜ₋₁ + (1 + rewardₜ₋₁ + endStateSiblingPriorNoRewardₜ₋₁ + rewardₜ₋₁ & endStateSiblingPriorNoRewardₜ₋₁ + parentPriorMoveToEndStateₜ₋₁ + rewardₜ₋₁ & parentPriorMoveToEndStateₜ₋₁ + endStateSiblingPriorNoRewardₜ₋₁ & parentPriorMoveToEndStateₜ₋₁ + rewardₜ₋₁ & endStateSiblingPriorNoRewardₜ₋₁ & parentPriorMoveToEndStateₜ₋₁ | subject)\n",
       "  Distribution: Bernoulli{Float64}\n",
       "  Link: LogitLink()\n",
       "\n",
       "   logLik     deviance      AIC         AICc        BIC     \n",
       " -22105.3927  44210.7854  44298.7854  44298.8860  44676.3791\n",
       "\n",
       "Variance components:\n",
       "                                                   Column                                            Variance Std.Dev.   Corr.\n",
       "subject (Intercept)                                                                                   0.778620 0.882395\n",
       "        rewardₜ₋₁: true                                                                               0.148167 0.384925 +0.61\n",
       "        endStateSiblingPriorNoRewardₜ₋₁: true                                                         2.672018 1.634631 -0.97 -0.59\n",
       "        rewardₜ₋₁: true & endStateSiblingPriorNoRewardₜ₋₁: true                                       0.046866 0.216486 -0.61 -0.59 +0.43\n",
       "        parentPriorMoveToEndStateₜ₋₁: true                                                            2.516117 1.586227 -0.98 -0.48 +0.98 +0.46\n",
       "        rewardₜ₋₁: true & parentPriorMoveToEndStateₜ₋₁: true                                          1.746907 1.321706 +0.94 +0.41 -0.98 -0.33 -0.98\n",
       "        endStateSiblingPriorNoRewardₜ₋₁: true & parentPriorMoveToEndStateₜ₋₁: true                    2.614236 1.616860 +0.97 +0.52 -0.99 -0.43 -1.00 +0.99\n",
       "        rewardₜ₋₁: true & endStateSiblingPriorNoRewardₜ₋₁: true & parentPriorMoveToEndStateₜ₋₁: true  0.032994 0.181641 +0.71 +0.24 -0.57 -0.78 -0.68 +0.57 +0.62\n",
       "\n",
       " Number of obs: 39406; levels of grouping factors: 200\n",
       "\n",
       "Fixed-effects parameters:\n",
       "──────────────────────────────────────────────────────────────────────────────────────────────────────────────────────────────────────\n",
       "                                                                                                   Coef.  Std. Error       z  Pr(>|z|)\n",
       "──────────────────────────────────────────────────────────────────────────────────────────────────────────────────────────────────────\n",
       "(Intercept)                                                                                    1.26683     0.0712584   17.78    <1e-69\n",
       "rewardₜ₋₁: true                                                                                0.137237    0.061193     2.24    0.0249\n",
       "endStateSiblingPriorNoRewardₜ₋₁: true                                                         -1.98984     0.124403   -16.00    <1e-56\n",
       "parentPriorMoveToEndStateₜ₋₁: true                                                            -2.01153     0.125093   -16.08    <1e-57\n",
       "rewardₜ₋₁: true & endStateSiblingPriorNoRewardₜ₋₁: true                                        0.0147034   0.0715938    0.21    0.8373\n",
       "rewardₜ₋₁: true & parentPriorMoveToEndStateₜ₋₁: true                                           1.5261      0.125732    12.14    <1e-33\n",
       "endStateSiblingPriorNoRewardₜ₋₁: true & parentPriorMoveToEndStateₜ₋₁: true                     2.14019     0.13383     15.99    <1e-56\n",
       "rewardₜ₋₁: true & endStateSiblingPriorNoRewardₜ₋₁: true & parentPriorMoveToEndStateₜ₋₁: true  -0.0129402   0.103411    -0.13    0.9004\n",
       "──────────────────────────────────────────────────────────────────────────────────────────────────────────────────────────────────────"
      ]
     },
     "metadata": {},
     "output_type": "display_data"
    }
   ],
   "source": [
    "# reg_full_dummy_sim_m6 = fit(MixedModel, fm_full, df_reg_sim_m6, Binomial(), progress=false; contrasts=contr_full)\n",
    "# reg_full_dummy_sim_m2_5 = fit(MixedModel, fm_full, df_reg_sim_m2_5, Binomial(), progress=false; contrasts=contr_full)\n",
    "# reg_full_dummy_sim_0 = fit(MixedModel, fm_full, df_reg_sim_0, Binomial(), progress=false; contrasts=contr_full)\n",
    "# save(\"results/reg_full_dummy_sim_m6.jld2\", \"results\", reg_full_dummy_sim_m6; compress=true)\n",
    "# save(\"results/reg_full_dummy_sim_m2_5.jld2\", \"results\", reg_full_dummy_sim_m2_5; compress=true)\n",
    "# save(\"results/reg_full_dummy_sim_0.jld2\", \"results\", reg_full_dummy_sim_0; compress=true)\n",
    "\n",
    "reg_full_dummy_sim_m6 = load(\"results/reg_full_dummy_sim_m6.jld2\")[\"results\"]\n",
    "reg_full_dummy_sim_m2_5 = load(\"results/reg_full_dummy_sim_m2_5.jld2\")[\"results\"]\n",
    "reg_full_dummy_sim_0 = load(\"results/reg_full_dummy_sim_0.jld2\")[\"results\"]\n",
    "# show(reg_full_dummy_sim_m6)"
   ]
  },
  {
   "cell_type": "markdown",
   "metadata": {},
   "source": [
    "# Plots"
   ]
  },
  {
   "cell_type": "markdown",
   "metadata": {},
   "source": [
    "## Regression Coefficients\n",
    "\n",
    "First, we just have the reression coefficients (and their SEs) themselves"
   ]
  },
  {
   "cell_type": "code",
   "execution_count": 20,
   "metadata": {},
   "outputs": [],
   "source": [
    "m_rwd = reg_rwdonly_dummy_sim_m6\n",
    "rwd_alone_ind = findfirst(fixefnames(m_rwd) .== \"rewardₜ₋₁: true\")\n",
    "\n",
    "m_full = reg_full_dummy_sim_m6\n",
    "mb_ind = findfirst(fixefnames(m_full) .== \"rewardₜ₋₁: true & endStateSiblingPriorNoRewardₜ₋₁: true\")\n",
    "sr_ind = findfirst(fixefnames(m_full) .== \"rewardₜ₋₁: true & parentPriorMoveToEndStateₜ₋₁: true\")\n",
    "rwd_ind = findfirst(fixefnames(m_full) .== \"rewardₜ₋₁: true\")\n",
    "\n",
    "m_rwd = reg_rwdonly_dummy_sim_m6\n",
    "m_full = reg_full_dummy_sim_m6\n",
    "coefs_rwd_low = fixef(m_rwd)[[rwd_alone_ind]]\n",
    "stderrs_rwd_low = stderror(m_rwd)[[rwd_alone_ind]]\n",
    "pvals_rwd_low = DataFrame(coeftable(m_rwd))[!, \"Pr(>|z|)\"][[rwd_alone_ind]]\n",
    "coefs_full_low = fixef(m_full)[[rwd_ind, mb_ind, sr_ind]]\n",
    "stderrs_full_low = stderror(m_full)[[rwd_ind, mb_ind, sr_ind]]\n",
    "pvals_full_low = DataFrame(coeftable(m_full))[!, \"Pr(>|z|)\"][[rwd_ind, mb_ind, sr_ind]]\n",
    "\n",
    "m_rwd = reg_rwdonly_dummy_sim_m2_5\n",
    "m_full = reg_full_dummy_sim_m2_5\n",
    "coefs_rwd_mid = fixef(m_rwd)[[rwd_alone_ind]]\n",
    "stderrs_rwd_mid = stderror(m_rwd)[[rwd_alone_ind]]\n",
    "pvals_rwd_mid = DataFrame(coeftable(m_rwd))[!, \"Pr(>|z|)\"][[rwd_alone_ind]]\n",
    "coefs_full_mid = fixef(m_full)[[rwd_ind, mb_ind, sr_ind]]\n",
    "stderrs_full_mid = stderror(m_full)[[rwd_ind, mb_ind, sr_ind]]\n",
    "pvals_full_mid = DataFrame(coeftable(m_full))[!, \"Pr(>|z|)\"][[rwd_ind, mb_ind, sr_ind]]\n",
    "\n",
    "m_rwd = reg_rwdonly_dummy_sim_0\n",
    "m_full = reg_full_dummy_sim_0\n",
    "coefs_rwd_high = fixef(m_rwd)[[rwd_alone_ind]]\n",
    "stderrs_rwd_high = stderror(m_rwd)[[rwd_alone_ind]]\n",
    "pvals_rwd_high = DataFrame(coeftable(m_rwd))[!, \"Pr(>|z|)\"][[rwd_alone_ind]]\n",
    "coefs_full_high = fixef(m_full)[[rwd_ind, mb_ind, sr_ind]]\n",
    "stderrs_full_high = stderror(m_full)[[rwd_ind, mb_ind, sr_ind]]\n",
    "pvals_full_high = DataFrame(coeftable(m_full))[!, \"Pr(>|z|)\"][[rwd_ind, mb_ind, sr_ind]]\n",
    "\n",
    "m_rwd = reg_rwdonly_dummy_participants\n",
    "m_full = reg_full_dummy_participants\n",
    "coefs_rwd_participants = fixef(m_rwd)[[rwd_alone_ind]]\n",
    "stderrs_rwd_participants = stderror(m_rwd)[[rwd_alone_ind]]\n",
    "pvals_rwd_participants = DataFrame(coeftable(m_rwd))[!, \"Pr(>|z|)\"][[rwd_alone_ind]]\n",
    "coefs_full_participants = fixef(m_full)[[rwd_ind, mb_ind, sr_ind]]\n",
    "stderrs_full_participants = stderror(m_full)[[rwd_ind, mb_ind, sr_ind]]\n",
    "pvals_full_participants = DataFrame(coeftable(m_full))[!, \"Pr(>|z|)\"][[rwd_ind, mb_ind, sr_ind]]\n",
    ";"
   ]
  },
  {
   "cell_type": "code",
   "execution_count": 21,
   "metadata": {},
   "outputs": [
    {
     "name": "stdout",
     "output_type": "stream",
     "text": [
      "Generalized Linear Mixed Model fit by maximum likelihood (nAGQ = 1)\n",
      "  action1TowardsPrevEnd ~ 1 + rewardₜ₋₁ + (1 + rewardₜ₋₁ | subject)\n",
      "  Distribution: Bernoulli{Float64}\n",
      "  Link: LogitLink()\n",
      "\n",
      "   logLik     deviance      AIC         AICc        BIC     \n",
      " -25015.8982  50031.7964  50041.7964  50041.7979  50084.6763\n",
      "\n",
      "Variance components:\n",
      "             Column     Variance Std.Dev.   Corr.\n",
      "subject (Intercept)      0.126803 0.356094\n",
      "        rewardₜ₋₁: true  0.947235 0.973260 -1.00\n",
      "\n",
      " Number of obs: 39182; levels of grouping factors: 199\n",
      "\n",
      "Fixed-effects parameters:\n",
      "────────────────────────────────────────────────────────\n",
      "                     Coef.  Std. Error       z  Pr(>|z|)\n",
      "────────────────────────────────────────────────────────\n",
      "(Intercept)      -0.326299   0.0291937  -11.18    <1e-28\n",
      "rewardₜ₋₁: true   1.06177    0.0723158   14.68    <1e-48\n",
      "────────────────────────────────────────────────────────"
     ]
    }
   ],
   "source": [
    "show(reg_rwdonly_dummy_sim_m6)"
   ]
  },
  {
   "cell_type": "code",
   "execution_count": 22,
   "metadata": {},
   "outputs": [
    {
     "name": "stdout",
     "output_type": "stream",
     "text": [
      "Rwd Only\n",
      "Low λ Estimate: \n",
      "1.06, 95\\% CI = +/- 0.142, p < 8.36e-49Mid λ\n",
      "0.919, 95\\% CI = +/- 0.135, p < 2.29e-40\n",
      "High λ\n",
      "0.742, 95\\% CI = +/- 0.121, p < 1.89e-33\n",
      "Participants\n",
      "0.5, 95\\% CI = +/- 0.101, p < 4.61e-22\n",
      "\n",
      "Full Model, Rwd\n",
      "Low λ\n",
      "0.193, 95\\% CI = +/- 0.104, p < 0.000282\n",
      "Mid λ\n",
      "0.136, 95\\% CI = +/- 0.103, p < 0.00947\n",
      "High λ\n",
      "0.108, 95\\% CI = +/- 0.118, p < 0.0709\n",
      "Participants\n",
      "-0.0948, 95\\% CI = +/- 0.127, p < 0.143\n",
      "\n",
      "Full Model, MB Effect\n",
      "Low λ\n",
      "1.39, 95\\% CI = +/- 0.219, p < 1.9400000000000002e-35\n",
      "Mid λ\n",
      "0.763, 95\\% CI = +/- 0.16, p < 7.61e-21\n",
      "High λ\n",
      "0.063, 95\\% CI = +/- 0.14, p < 0.377\n",
      "Participants\n",
      "0.824, 95\\% CI = +/- 0.208, p < 8.58e-15\n",
      "\n",
      "Full Model, SR Effect\n",
      "Low λ\n",
      "0.0931, 95\\% CI = +/- 0.175, p < 0.298\n",
      "Mid λ\n",
      "0.823, 95\\% CI = +/- 0.185, p < 2.78e-18\n",
      "High λ\n",
      "1.53, 95\\% CI = +/- 0.246, p < 2.63e-34\n",
      "Participants\n",
      "0.967, 95\\% CI = +/- 0.221, p < 1.14e-17\n"
     ]
    }
   ],
   "source": [
    "println(\"Rwd Only\")\n",
    "println(\"Low λ Estimate: \")\n",
    "print(\"$(round(coefs_rwd_low[1]; sigdigits=3)), 95\\\\% CI = +/- $(round(1.96*stderrs_rwd_low[1]; sigdigits=3)), p < $(round(pvals_rwd_low[1]; sigdigits=3))\")\n",
    "println(\"Mid λ\")\n",
    "println(\"$(round(coefs_rwd_mid[1]; sigdigits=3)), 95\\\\% CI = +/- $(round(1.96*stderrs_rwd_mid[1]; sigdigits=3)), p < $(round(pvals_rwd_mid[1]; sigdigits=3))\")\n",
    "println(\"High λ\")\n",
    "println(\"$(round(coefs_rwd_high[1]; sigdigits=3)), 95\\\\% CI = +/- $(round(1.96*stderrs_rwd_high[1]; sigdigits=3)), p < $(round(pvals_rwd_high[1]; sigdigits=3))\")\n",
    "println(\"Participants\")\n",
    "println(\"$(round(coefs_rwd_participants[1]; sigdigits=3)), 95\\\\% CI = +/- $(round(1.96*stderrs_rwd_participants[1]; sigdigits=3)), p < $(round(pvals_rwd_participants[1]; sigdigits=3))\")\n",
    "println()\n",
    "println(\"Full Model, Rwd\")\n",
    "println(\"Low λ\")\n",
    "println(\"$(round(coefs_full_low[1]; sigdigits=3)), 95\\\\% CI = +/- $(round(1.96*stderrs_full_low[1]; sigdigits=3)), p < $(round(pvals_full_low[1]; sigdigits=3))\")\n",
    "println(\"Mid λ\")\n",
    "println(\"$(round(coefs_full_mid[1]; sigdigits=3)), 95\\\\% CI = +/- $(round(1.96*stderrs_full_mid[1]; sigdigits=3)), p < $(round(pvals_full_mid[1]; sigdigits=3))\")\n",
    "println(\"High λ\")\n",
    "println(\"$(round(coefs_full_high[1]; sigdigits=3)), 95\\\\% CI = +/- $(round(1.96*stderrs_full_high[1]; sigdigits=3)), p < $(round(pvals_full_high[1]; sigdigits=3))\")\n",
    "println(\"Participants\")\n",
    "println(\"$(round(coefs_full_participants[1]; sigdigits=3)), 95\\\\% CI = +/- $(round(1.96*stderrs_full_participants[1]; sigdigits=3)), p < $(round(pvals_full_participants[1]; sigdigits=3))\")\n",
    "println()\n",
    "println(\"Full Model, MB Effect\")\n",
    "println(\"Low λ\")\n",
    "println(\"$(round(coefs_full_low[2]; sigdigits=3)), 95\\\\% CI = +/- $(round(1.96*stderrs_full_low[2]; sigdigits=3)), p < $(round(pvals_full_low[2]; sigdigits=3))\")\n",
    "println(\"Mid λ\")\n",
    "println(\"$(round(coefs_full_mid[2]; sigdigits=3)), 95\\\\% CI = +/- $(round(1.96*stderrs_full_mid[2]; sigdigits=3)), p < $(round(pvals_full_mid[2]; sigdigits=3))\")\n",
    "println(\"High λ\")\n",
    "println(\"$(round(coefs_full_high[2]; sigdigits=3)), 95\\\\% CI = +/- $(round(1.96*stderrs_full_high[2]; sigdigits=3)), p < $(round(pvals_full_high[2]; sigdigits=3))\")\n",
    "println(\"Participants\")\n",
    "println(\"$(round(coefs_full_participants[2]; sigdigits=3)), 95\\\\% CI = +/- $(round(1.96*stderrs_full_participants[2]; sigdigits=3)), p < $(round(pvals_full_participants[2]; sigdigits=3))\")\n",
    "println()\n",
    "println(\"Full Model, SR Effect\")\n",
    "println(\"Low λ\")\n",
    "println(\"$(round(coefs_full_low[3]; sigdigits=3)), 95\\\\% CI = +/- $(round(1.96*stderrs_full_low[3]; sigdigits=3)), p < $(round(pvals_full_low[3]; sigdigits=3))\")\n",
    "println(\"Mid λ\")\n",
    "println(\"$(round(coefs_full_mid[3]; sigdigits=3)), 95\\\\% CI = +/- $(round(1.96*stderrs_full_mid[3]; sigdigits=3)), p < $(round(pvals_full_mid[3]; sigdigits=3))\")\n",
    "println(\"High λ\")\n",
    "println(\"$(round(coefs_full_high[3]; sigdigits=3)), 95\\\\% CI = +/- $(round(1.96*stderrs_full_high[3]; sigdigits=3)), p < $(round(pvals_full_high[3]; sigdigits=3))\")\n",
    "println(\"Participants\")\n",
    "println(\"$(round(coefs_full_participants[3]; sigdigits=3)), 95\\\\% CI = +/- $(round(1.96*stderrs_full_participants[3]; sigdigits=3)), p < $(round(pvals_full_participants[3]; sigdigits=3))\")"
   ]
  },
  {
   "cell_type": "markdown",
   "metadata": {},
   "source": [
    "From extreme learning rate models"
   ]
  },
  {
   "cell_type": "code",
   "execution_count": 61,
   "metadata": {},
   "outputs": [
    {
     "data": {
      "image/png": "[encoded data removed]"
     },
     "metadata": {},
     "output_type": "display_data"
    }
   ],
   "source": [
    "f = Figure(resolution=72 .* (6.0, 2.5))\n",
    "colors = categorical_colors(:Set1, 4)\n",
    "\n",
    "coefs_rwd = coefs_rwd_low\n",
    "stderrs_rwd = stderrs_rwd_low\n",
    "pvals_rwd = pvals_rwd_low\n",
    "coefs_full = coefs_full_low\n",
    "stderrs_full = stderrs_full_low\n",
    "pvals_full = pvals_full_low\n",
    "ax = Axis(f[1,1], xticks = ([1,2.5,3.5,4.5], [\"rwd\", \"rwd\", \"MB:rwd\", \"SR:rwd\"]),\n",
    "    ylabel=\"Regression Coef\",\n",
    "    palette = (; patchcolor = colors),\n",
    "    title = \"Effect of Sample Reward on Choice, Low λ\",\n",
    ")\n",
    "Label(f[1, 1, TopLeft()], \"d\", fontsize = 9, font = :bold, padding = (0, 12, 2, 0), halign = :right)\n",
    "ylims!(-0.4, 1.95)\n",
    "barplot!([1], coefs_rwd, strokecolor = :black, strokewidth = 1, color=(colors[1], 0.45))\n",
    "errorbars!([1], coefs_rwd, 1.96 .* stderrs_rwd, whiskerwidth = 12.0, color=(:black, 0.45))\n",
    "barplot!([2.5], [coefs_full[1]], strokecolor = :black, strokewidth = 1, color=(colors[1], 0.45))\n",
    "barplot!([3.5], [coefs_full[2]], strokecolor = :black, strokewidth = 1, color=(colors[2], 0.45))\n",
    "barplot!([4.5], [coefs_full[3]], strokecolor = :black, strokewidth = 1, color=(colors[3], 0.45))\n",
    "errorbars!([2.5, 3.5, 4.5], coefs_full, 1.96 .* stderrs_full, whiskerwidth = 12.0, color=(:black, 0.45))\n",
    "vlines!(ax, [1.75], color=:black, linewidth=2, linestyle=:dot)\n",
    "if pvals_rwd[1] < 0.05\n",
    "    text!(1-0.03, (coefs_rwd .+ 1.96 .* stderrs_rwd)[1] - 0.08; text=\"*\")\n",
    "end\n",
    "for i in 1:3\n",
    "    if pvals_full[i] < 0.05\n",
    "        text!(i + 1.5 - 0.03, (coefs_full .+ 1.96 .* stderrs_full)[i] - 0.08; text=\"*\")\n",
    "    end\n",
    "end\n",
    "\n",
    "coefs_rwd = coefs_rwd_high\n",
    "stderrs_rwd = stderrs_rwd_high\n",
    "pvals_rwd = pvals_rwd_high\n",
    "coefs_full = coefs_full_high\n",
    "stderrs_full = stderrs_full_high\n",
    "pvals_full = pvals_full_high\n",
    "ax = Axis(f[1,2], xticks = ([1,2.5,3.5,4.5], [\"rwd\", \"rwd\", \"MB:rwd\", \"SR:rwd\"]),\n",
    "    ylabel=\"Regression Coef\",\n",
    "    palette = (; patchcolor = colors),\n",
    "    title = \"Effect of Sample Reward on Choice, High λ\",\n",
    ")\n",
    "Label(f[1, 2, TopLeft()], \"e\", fontsize = 9, font = :bold, padding = (0, 12, 2, 0), halign = :right)\n",
    "ylims!(-0.4, 1.95)\n",
    "barplot!([1], coefs_rwd, strokecolor = :black, strokewidth = 1, color=(colors[1], 0.45))\n",
    "errorbars!([1], coefs_rwd, 1.96 .* stderrs_rwd, whiskerwidth = 12.0, color=(:black, 0.45))\n",
    "barplot!([2.5], [coefs_full[1]], strokecolor = :black, strokewidth = 1, color=(colors[1], 0.45))\n",
    "barplot!([3.5], [coefs_full[2]], strokecolor = :black, strokewidth = 1, color=(colors[2], 0.45))\n",
    "barplot!([4.5], [coefs_full[3]], strokecolor = :black, strokewidth = 1, color=(colors[3], 0.45))\n",
    "errorbars!([2.5, 3.5, 4.5], coefs_full, 1.96 .* stderrs_full, whiskerwidth = 12.0, color=(:black, 0.45))\n",
    "vlines!(ax, [1.75], color=:black, linewidth=2, linestyle=:dot)\n",
    "if pvals_rwd[1] < 0.05\n",
    "    text!(1-0.03, (coefs_rwd .+ 1.96 .* stderrs_rwd)[1] - 0.08; text=\"*\")\n",
    "end\n",
    "for i in 1:3\n",
    "    if pvals_full[i] < 0.05\n",
    "        text!(i + 1.5 - 0.03, (coefs_full .+ 1.96 .* stderrs_full)[i] - 0.08; text=\"*\")\n",
    "    end\n",
    "end\n",
    "\n",
    "coefs_rwd = coefs_rwd_mid\n",
    "stderrs_rwd = stderrs_rwd_mid\n",
    "pvals_rwd = pvals_rwd_mid\n",
    "coefs_full = coefs_full_mid\n",
    "stderrs_full = stderrs_full_mid\n",
    "pvals_full = pvals_full_mid\n",
    "ax = Axis(f[2,1], xticks = ([1,2.5,3.5,4.5], [\"rwd\", \"rwd\", \"MB:rwd\", \"SR:rwd\"]),\n",
    "    ylabel=\"Regression Coef\",\n",
    "    palette = (; patchcolor = colors),\n",
    "    title = \"Effect of Sample Reward on Choice, Mid λ\",\n",
    ")\n",
    "Label(f[2, 1, TopLeft()], \"f\", fontsize = 9, font = :bold, padding = (0, 12, 2, 0), halign = :right)\n",
    "ylims!(-0.4, 1.95)\n",
    "barplot!([1], coefs_rwd, strokecolor = :black, strokewidth = 1, color=(colors[1], 0.45))\n",
    "errorbars!([1], coefs_rwd, 1.96 .* stderrs_rwd, whiskerwidth = 12.0, color=(:black, 0.45))\n",
    "barplot!([2.5], [coefs_full[1]], strokecolor = :black, strokewidth = 1, color=(colors[1], 0.45))\n",
    "barplot!([3.5], [coefs_full[2]], strokecolor = :black, strokewidth = 1, color=(colors[2], 0.45))\n",
    "barplot!([4.5], [coefs_full[3]], strokecolor = :black, strokewidth = 1, color=(colors[3], 0.45))\n",
    "errorbars!([2.5, 3.5, 4.5], coefs_full, 1.96 .* stderrs_full, whiskerwidth = 12.0, color=(:black, 0.45))\n",
    "vlines!(ax, [1.75], color=:black, linewidth=2, linestyle=:dot)\n",
    "if pvals_rwd[1] < 0.05\n",
    "    text!(1-0.03, (coefs_rwd .+ 1.96 .* stderrs_rwd)[1] - 0.08; text=\"*\")\n",
    "end\n",
    "for i in 1:3\n",
    "    if pvals_full[i] < 0.05\n",
    "        text!(i + 1.5 - 0.03, (coefs_full .+ 1.96 .* stderrs_full)[i] - 0.08; text=\"*\")\n",
    "    end\n",
    "end\n",
    "\n",
    "coefs_rwd = coefs_rwd_participants\n",
    "stderrs_rwd = stderrs_rwd_participants\n",
    "pvals_rwd = pvals_rwd_participants\n",
    "coefs_full = coefs_full_participants\n",
    "stderrs_full = stderrs_full_participants\n",
    "pvals_full = pvals_full_participants\n",
    "ax = Axis(f[2,2], xticks = ([1,2.5,3.5,4.5], [\"rwd\", \"rwd\", \"MB:rwd\", \"SR:rwd\"]),\n",
    "    ylabel=\"Regression Coef\",\n",
    "    palette = (; patchcolor = colors),\n",
    "    title = \"Effect of Sample Reward on Choice, Participants\",\n",
    ")\n",
    "Label(f[2, 2, TopLeft()], \"g\", fontsize = 9, font = :bold, padding = (0, 12, 2, 0), halign = :right)\n",
    "ylims!(-0.4, 1.95)\n",
    "barplot!([1], coefs_rwd, strokecolor = :black, strokewidth = 1, color=(colors[1], 0.45))\n",
    "errorbars!([1], coefs_rwd, 1.96 .* stderrs_rwd, whiskerwidth = 12.0, color=(:black, 0.45))\n",
    "barplot!([2.5], [coefs_full[1]], strokecolor = :black, strokewidth = 1, color=(colors[1], 0.45))\n",
    "barplot!([3.5], [coefs_full[2]], strokecolor = :black, strokewidth = 1, color=(colors[2], 0.45))\n",
    "barplot!([4.5], [coefs_full[3]], strokecolor = :black, strokewidth = 1, color=(colors[3], 0.45))\n",
    "errorbars!([2.5, 3.5, 4.5], coefs_full, 1.96 .* stderrs_full, whiskerwidth = 12.0, color=(:black, 0.45))\n",
    "vlines!(ax, [1.75], color=:black, linewidth=2, linestyle=:dot)\n",
    "if pvals_rwd[1] < 0.05\n",
    "    text!(1-0.03, (coefs_rwd .+ 1.96 .* stderrs_rwd)[1] - 0.08; text=\"*\")\n",
    "end\n",
    "for i in 1:3\n",
    "    if pvals_full[i] < 0.05\n",
    "        text!(i + 1.5 - 0.03, (coefs_full .+ 1.96 .* stderrs_full)[i] - 0.08; text=\"*\")\n",
    "    end\n",
    "end\n",
    "\n",
    "\n",
    "save(\"figures/model_coeffs.pdf\", f, pt_per_unit=1)\n",
    "f"
   ]
  }
 ],
 "metadata": {
  "kernelspec": {
   "display_name": "Julia 1.9.4",
   "language": "julia",
   "name": "julia-1.9"
  },
  "language_info": {
   "file_extension": ".jl",
   "mimetype": "application/julia",
   "name": "julia",
   "version": "1.9.4"
  }
 },
 "nbformat": 4,
 "nbformat_minor": 2
}
